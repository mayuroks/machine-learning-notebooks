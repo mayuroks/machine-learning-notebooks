{
 "cells": [
  {
   "cell_type": "code",
   "execution_count": 37,
   "metadata": {},
   "outputs": [],
   "source": [
    "# data collection - DONE\n",
    "\n",
    "# data inspection\n",
    "\n",
    "# feature engineering\n",
    "    # source data\n",
    "    # preprocessing\n",
    "    # tokenization\n",
    "    # removing stopwords\n",
    "    # Vectoriztion\n",
    "# selecting and tuning a model? Which model?\n",
    "# inspecting a model\n",
    "# model iteration - trying different models\n"
   ]
  },
  {
   "cell_type": "code",
   "execution_count": 36,
   "metadata": {},
   "outputs": [
    {
     "name": "stderr",
     "output_type": "stream",
     "text": [
      "WARNING:searchtweets.credentials:Grabbing bearer token from OAUTH\n"
     ]
    }
   ],
   "source": [
    "from searchtweets import load_credentials, collect_results, gen_rule_payload\n",
    "search_args = load_credentials(yaml_key=\"search_tweets_30_day_dev\", filename='keys.yaml')"
   ]
  },
  {
   "cell_type": "code",
   "execution_count": 18,
   "metadata": {},
   "outputs": [],
   "source": [
    "# specifically searching for topic 'bollywood', next -> search for industry like cars, sme, devops \n",
    "rule = gen_rule_payload('bollywood', from_date='2018-08-22', to_date='2018-08-29')"
   ]
  },
  {
   "cell_type": "code",
   "execution_count": 19,
   "metadata": {},
   "outputs": [
    {
     "data": {
      "text/plain": [
       "'{\"query\": \"bollywood\", \"toDate\": \"201808290000\", \"fromDate\": \"201808220000\"}'"
      ]
     },
     "execution_count": 19,
     "metadata": {},
     "output_type": "execute_result"
    }
   ],
   "source": [
    "rule"
   ]
  },
  {
   "cell_type": "code",
   "execution_count": 13,
   "metadata": {},
   "outputs": [],
   "source": [
    "def maybe_get_tweets(file_name, rule=None, max_results=1000):\n",
    "    try:\n",
    "        tweets = []\n",
    "        with open(file_name, 'r') as infile:\n",
    "            logging.warning(\"reading cached tweets\")\n",
    "            for line in infile:\n",
    "                tweets.append(Tweet(json.loads(line)))\n",
    "\n",
    "    except FileNotFoundError:\n",
    "        if rule is not None:\n",
    "            logging.warning(\"collecting tweets from the API\")\n",
    "            tweets = collect_results(rule,\n",
    "                                     max_results=max_results,\n",
    "                                     result_stream_args=search_args)\n",
    "        else:\n",
    "            logging.error(\"rule is not defined; please supply a valid rule for the query\")\n",
    "            raise KeyError\n",
    "        # write sample to disk\n",
    "        if not os.path.isdir(\"data\"):\n",
    "            os.mkdir(\"data\")\n",
    "        with open(file_name, 'w') as outfile:\n",
    "            for tw in tweets:\n",
    "                outfile.write(json.dumps(tw) + '\\n')\n",
    "\n",
    "    return tweets"
   ]
  },
  {
   "cell_type": "code",
   "execution_count": 29,
   "metadata": {
    "scrolled": true
   },
   "outputs": [],
   "source": [
    "tweets = collect_results(rule,max_results=1000,result_stream_args=search_args)"
   ]
  },
  {
   "cell_type": "code",
   "execution_count": 24,
   "metadata": {},
   "outputs": [],
   "source": [
    "from collections import Counter\n",
    "import itertools as it\n",
    "import json\n",
    "import logging\n",
    "import os\n",
    "import re\n",
    "import string\n",
    "import sys\n",
    "import yaml"
   ]
  },
  {
   "cell_type": "code",
   "execution_count": 30,
   "metadata": {},
   "outputs": [
    {
     "data": {
      "text/plain": [
       "1000"
      ]
     },
     "execution_count": 30,
     "metadata": {},
     "output_type": "execute_result"
    }
   ],
   "source": [
    "len(tweets)"
   ]
  },
  {
   "cell_type": "code",
   "execution_count": 38,
   "metadata": {},
   "outputs": [],
   "source": [
    "import pandas as pd"
   ]
  },
  {
   "cell_type": "code",
   "execution_count": 39,
   "metadata": {},
   "outputs": [
    {
     "data": {
      "text/plain": [
       "{'created_at': 'Tue Aug 28 23:59:48 +0000 2018',\n",
       " 'id': 1034591408106229768,\n",
       " 'id_str': '1034591408106229768',\n",
       " 'text': 'https://t.co/vi3WwZFqND\\n\\nstrip teens milf 3gp naked masturbation fake hospital for porn mistress porno lover beauty… https://t.co/QIjx36M16C',\n",
       " 'source': '<a href=\"https://spirridde488.wordpress.com\" rel=\"nofollow\">Mindy Bingham\\'s 1951998 Blog</a>',\n",
       " 'truncated': True,\n",
       " 'in_reply_to_status_id': None,\n",
       " 'in_reply_to_status_id_str': None,\n",
       " 'in_reply_to_user_id': None,\n",
       " 'in_reply_to_user_id_str': None,\n",
       " 'in_reply_to_screen_name': None,\n",
       " 'user': {'id': 1018062405958545408,\n",
       "  'id_str': '1018062405958545408',\n",
       "  'name': 'Sweet Lesbian Porno Movies Online📍📺',\n",
       "  'screen_name': 'mindy_bingham',\n",
       "  'location': 'United States',\n",
       "  'url': 'http://rualdiscyo.ml/',\n",
       "  'description': None,\n",
       "  'translator_type': 'none',\n",
       "  'protected': False,\n",
       "  'verified': False,\n",
       "  'followers_count': 72,\n",
       "  'friends_count': 0,\n",
       "  'listed_count': 0,\n",
       "  'favourites_count': 0,\n",
       "  'statuses_count': 5727,\n",
       "  'created_at': 'Sat Jul 14 09:19:27 +0000 2018',\n",
       "  'utc_offset': None,\n",
       "  'time_zone': None,\n",
       "  'geo_enabled': False,\n",
       "  'lang': 'en',\n",
       "  'contributors_enabled': False,\n",
       "  'is_translator': False,\n",
       "  'profile_background_color': 'F5F8FA',\n",
       "  'profile_background_image_url': '',\n",
       "  'profile_background_image_url_https': '',\n",
       "  'profile_background_tile': False,\n",
       "  'profile_link_color': '1DA1F2',\n",
       "  'profile_sidebar_border_color': 'C0DEED',\n",
       "  'profile_sidebar_fill_color': 'DDEEF6',\n",
       "  'profile_text_color': '333333',\n",
       "  'profile_use_background_image': True,\n",
       "  'profile_image_url': 'http://pbs.twimg.com/profile_images/1020521560715784192/ZehQ75ye_normal.jpg',\n",
       "  'profile_image_url_https': 'https://pbs.twimg.com/profile_images/1020521560715784192/ZehQ75ye_normal.jpg',\n",
       "  'default_profile': True,\n",
       "  'default_profile_image': False,\n",
       "  'following': None,\n",
       "  'follow_request_sent': None,\n",
       "  'notifications': None},\n",
       " 'geo': None,\n",
       " 'coordinates': None,\n",
       " 'place': None,\n",
       " 'contributors': None,\n",
       " 'is_quote_status': False,\n",
       " 'extended_tweet': {'full_text': 'https://t.co/vi3WwZFqND\\n\\nstrip teens milf 3gp naked masturbation fake hospital for porn mistress porno lover beauty small tits japanese ebony massage rooms galleries bollywood nudes hd fantasy teeny white panties sex xxx 720p 2k video gape italy',\n",
       "  'display_text_range': [0, 245],\n",
       "  'entities': {'hashtags': [],\n",
       "   'urls': [{'url': 'https://t.co/vi3WwZFqND',\n",
       "     'expanded_url': 'http://rualdiscyo.ml/q8ueOXF',\n",
       "     'display_url': 'rualdiscyo.ml/q8ueOXF',\n",
       "     'indices': [0, 23]}],\n",
       "   'user_mentions': [],\n",
       "   'symbols': []}},\n",
       " 'quote_count': 0,\n",
       " 'reply_count': 0,\n",
       " 'retweet_count': 0,\n",
       " 'favorite_count': 0,\n",
       " 'entities': {'hashtags': [],\n",
       "  'urls': [{'url': 'https://t.co/vi3WwZFqND',\n",
       "    'expanded_url': 'http://rualdiscyo.ml/q8ueOXF',\n",
       "    'display_url': 'rualdiscyo.ml/q8ueOXF',\n",
       "    'indices': [0, 23]},\n",
       "   {'url': 'https://t.co/QIjx36M16C',\n",
       "    'expanded_url': 'https://twitter.com/i/web/status/1034591408106229768',\n",
       "    'display_url': 'twitter.com/i/web/status/1…',\n",
       "    'indices': [117, 140]}],\n",
       "  'user_mentions': [],\n",
       "  'symbols': []},\n",
       " 'favorited': False,\n",
       " 'retweeted': False,\n",
       " 'possibly_sensitive': True,\n",
       " 'filter_level': 'low',\n",
       " 'lang': 'en',\n",
       " 'matching_rules': [{'tag': None}]}"
      ]
     },
     "execution_count": 39,
     "metadata": {},
     "output_type": "execute_result"
    }
   ],
   "source": [
    "tweets[0]"
   ]
  },
  {
   "cell_type": "code",
   "execution_count": 47,
   "metadata": {},
   "outputs": [],
   "source": [
    "tweet_df = pd.DataFrame({'ts': [t.created_at_datetime  for t in tweets],\n",
    "                        'text': [t.all_text for t in tweets],\n",
    "                        'uid': [t.user_id for t in tweets]\n",
    "                        })"
   ]
  },
  {
   "cell_type": "code",
   "execution_count": 53,
   "metadata": {},
   "outputs": [],
   "source": [
    "tweet_df['ts'] = pd.to_datetime(tweet_df['ts'])"
   ]
  },
  {
   "cell_type": "code",
   "execution_count": 54,
   "metadata": {},
   "outputs": [
    {
     "data": {
      "text/html": [
       "<div>\n",
       "<style scoped>\n",
       "    .dataframe tbody tr th:only-of-type {\n",
       "        vertical-align: middle;\n",
       "    }\n",
       "\n",
       "    .dataframe tbody tr th {\n",
       "        vertical-align: top;\n",
       "    }\n",
       "\n",
       "    .dataframe thead th {\n",
       "        text-align: right;\n",
       "    }\n",
       "</style>\n",
       "<table border=\"1\" class=\"dataframe\">\n",
       "  <thead>\n",
       "    <tr style=\"text-align: right;\">\n",
       "      <th></th>\n",
       "      <th>ts</th>\n",
       "      <th>text</th>\n",
       "      <th>uid</th>\n",
       "    </tr>\n",
       "  </thead>\n",
       "  <tbody>\n",
       "    <tr>\n",
       "      <th>0</th>\n",
       "      <td>2018-08-28 23:59:48</td>\n",
       "      <td>https://t.co/vi3WwZFqND\\n\\nstrip teens milf 3g...</td>\n",
       "      <td>1018062405958545408</td>\n",
       "    </tr>\n",
       "    <tr>\n",
       "      <th>1</th>\n",
       "      <td>2018-08-28 23:59:38</td>\n",
       "      <td>https://t.co/Gv5SebwhaR\\n\\nswallow model rocco...</td>\n",
       "      <td>1009662777802227712</td>\n",
       "    </tr>\n",
       "    <tr>\n",
       "      <th>2</th>\n",
       "      <td>2018-08-28 23:59:32</td>\n",
       "      <td>Actor @iamsrk wants equal pay for male and fem...</td>\n",
       "      <td>879279772475441152</td>\n",
       "    </tr>\n",
       "    <tr>\n",
       "      <th>3</th>\n",
       "      <td>2018-08-28 23:59:32</td>\n",
       "      <td>https://t.co/nyb6m1lyFc\\n\\nbbw younger the tee...</td>\n",
       "      <td>1021783910999629826</td>\n",
       "    </tr>\n",
       "    <tr>\n",
       "      <th>4</th>\n",
       "      <td>2018-08-28 23:59:12</td>\n",
       "      <td>Exclusive! Birthday girl Shilpa Shinde on bein...</td>\n",
       "      <td>984320885514383360</td>\n",
       "    </tr>\n",
       "  </tbody>\n",
       "</table>\n",
       "</div>"
      ],
      "text/plain": [
       "                   ts                                               text  \\\n",
       "0 2018-08-28 23:59:48  https://t.co/vi3WwZFqND\\n\\nstrip teens milf 3g...   \n",
       "1 2018-08-28 23:59:38  https://t.co/Gv5SebwhaR\\n\\nswallow model rocco...   \n",
       "2 2018-08-28 23:59:32  Actor @iamsrk wants equal pay for male and fem...   \n",
       "3 2018-08-28 23:59:32  https://t.co/nyb6m1lyFc\\n\\nbbw younger the tee...   \n",
       "4 2018-08-28 23:59:12  Exclusive! Birthday girl Shilpa Shinde on bein...   \n",
       "\n",
       "                   uid  \n",
       "0  1018062405958545408  \n",
       "1  1009662777802227712  \n",
       "2   879279772475441152  \n",
       "3  1021783910999629826  \n",
       "4   984320885514383360  "
      ]
     },
     "execution_count": 54,
     "metadata": {},
     "output_type": "execute_result"
    }
   ],
   "source": [
    "tweet_df.head()"
   ]
  },
  {
   "cell_type": "code",
   "execution_count": 57,
   "metadata": {},
   "outputs": [
    {
     "data": {
      "image/png": "[encoded data removed]",
      "text/plain": [
       "<Figure size 432x288 with 1 Axes>"
      ]
     },
     "metadata": {
      "needs_background": "light"
     },
     "output_type": "display_data"
    }
   ],
   "source": [
    "(tweet_df[['ts', 'text']]\n",
    " .set_index('ts')\n",
    " .resample('T')\n",
    " .count()\n",
    " .rename(columns=dict(text='1-minute counts'))\n",
    " .plot()\n",
    ");"
   ]
  },
  {
   "cell_type": "code",
   "execution_count": 59,
   "metadata": {},
   "outputs": [],
   "source": [
    "from nltk.tokenize.casual import TweetTokenizer\n",
    "import string"
   ]
  },
  {
   "cell_type": "code",
   "execution_count": 61,
   "metadata": {},
   "outputs": [
    {
     "data": {
      "text/plain": [
       "'0123456789abcdefghijklmnopqrstuvwxyzABCDEFGHIJKLMNOPQRSTUVWXYZ!\"#$%&\\'()*+,-./:;<=>?@[\\\\]^_`{|}~ \\t\\n\\r\\x0b\\x0c'"
      ]
     },
     "execution_count": 61,
     "metadata": {},
     "output_type": "execute_result"
    }
   ],
   "source": [
    "string.printable"
   ]
  },
  {
   "cell_type": "code",
   "execution_count": 96,
   "metadata": {},
   "outputs": [],
   "source": [
    "def get_all_tokens(tweet_list):\n",
    "    \"\"\"\n",
    "    Helper function to generate a list of text tokens from concatenating\n",
    "    all of the text contained in Tweets in `tweet_list`\n",
    "    \"\"\"\n",
    "    # concat entire corpus\n",
    "    all_text = ' '.join((t.all_text for t in tweet_list))\n",
    "    # tokenize\n",
    "    tokens = (TweetTokenizer(preserve_case=False,\n",
    "                            reduce_len=True,\n",
    "                            strip_handles=False)\n",
    "              .tokenize(all_text))\n",
    "    # remove symbol-only tokens for now\n",
    "    tokens = [tok for tok in tokens if not tok in string.punctuation]\n",
    "    return tokens"
   ]
  },
  {
   "cell_type": "code",
   "execution_count": 97,
   "metadata": {},
   "outputs": [],
   "source": [
    "tokens = get_all_tokens(tweets)"
   ]
  },
  {
   "cell_type": "code",
   "execution_count": 98,
   "metadata": {},
   "outputs": [
    {
     "data": {
      "text/plain": [
       "24750"
      ]
     },
     "execution_count": 98,
     "metadata": {},
     "output_type": "execute_result"
    }
   ],
   "source": [
    "len(tokens)"
   ]
  },
  {
   "cell_type": "code",
   "execution_count": 86,
   "metadata": {},
   "outputs": [],
   "source": [
    "from nltk.util import everygrams"
   ]
  },
  {
   "cell_type": "code",
   "execution_count": 99,
   "metadata": {},
   "outputs": [
    {
     "data": {
      "text/plain": [
       "[(('bollywood', 'nudes'), 202),\n",
       " (('nudes', 'hd'), 202),\n",
       " (('bollywood', 'nudes', 'hd'), 202),\n",
       " (('in', 'bollywood'), 58),\n",
       " (('’', 's'), 55),\n",
       " (('of', 'bollywood'), 48),\n",
       " (('of', 'the'), 40),\n",
       " (('in', 'the'), 34),\n",
       " (('film', 'bollywood'), 24),\n",
       " (('y', 'a'), 24),\n",
       " (('fake', 'agent'), 23),\n",
       " (('#pallywood', '#mensongepalestinien'), 23),\n",
       " (('#mensongepalestinien', 'cette'), 23),\n",
       " (('cette', 'image'), 23),\n",
       " (('image', 'fait'), 23),\n",
       " (('fait', 'le'), 23),\n",
       " (('le', 'tour'), 23),\n",
       " (('tour', 'des'), 23),\n",
       " (('des', 'comptes'), 23),\n",
       " (('comptes', 'palestiniens'), 23),\n",
       " (('palestiniens', 'jeune'), 23),\n",
       " (('jeune', 'palestinien'), 23),\n",
       " (('palestinien', 'qui'), 23),\n",
       " (('qui', 'a'), 23),\n",
       " (('a', 'refusé'), 23)]"
      ]
     },
     "execution_count": 99,
     "metadata": {},
     "output_type": "execute_result"
    }
   ],
   "source": [
    "top_grams = Counter(everygrams(tokens, min_len=2, max_len=4))\n",
    "top_grams.most_common(25)"
   ]
  },
  {
   "cell_type": "code",
   "execution_count": 100,
   "metadata": {},
   "outputs": [],
   "source": [
    "# create a filter series matching \"file\"\n",
    "mask = tweet_df['text'].str.lower().str.contains(\"film\")"
   ]
  },
  {
   "cell_type": "code",
   "execution_count": 101,
   "metadata": {},
   "outputs": [
    {
     "data": {
      "text/html": [
       "<div>\n",
       "<style scoped>\n",
       "    .dataframe tbody tr th:only-of-type {\n",
       "        vertical-align: middle;\n",
       "    }\n",
       "\n",
       "    .dataframe tbody tr th {\n",
       "        vertical-align: top;\n",
       "    }\n",
       "\n",
       "    .dataframe thead th {\n",
       "        text-align: right;\n",
       "    }\n",
       "</style>\n",
       "<table border=\"1\" class=\"dataframe\">\n",
       "  <thead>\n",
       "    <tr style=\"text-align: right;\">\n",
       "      <th></th>\n",
       "      <th>text</th>\n",
       "    </tr>\n",
       "  </thead>\n",
       "  <tbody>\n",
       "    <tr>\n",
       "      <th>15</th>\n",
       "      <td>https://t.co/dFmeesZgHc\\n\\n4k dick porn girl m...</td>\n",
       "    </tr>\n",
       "    <tr>\n",
       "      <th>23</th>\n",
       "      <td>@Official_MNCTV min minggu esok mohon tayangin...</td>\n",
       "    </tr>\n",
       "    <tr>\n",
       "      <th>46</th>\n",
       "      <td>Mauji and Mamta back from #SuiDhaagaInJaipur p...</td>\n",
       "    </tr>\n",
       "    <tr>\n",
       "      <th>49</th>\n",
       "      <td>Sharing these pics shared with me by @iamsrk f...</td>\n",
       "    </tr>\n",
       "    <tr>\n",
       "      <th>56</th>\n",
       "      <td>#Pallywood #MensongePalestinien\\n\\nCette image...</td>\n",
       "    </tr>\n",
       "    <tr>\n",
       "      <th>69</th>\n",
       "      <td>Shah Rukh Khan says he has never been offered ...</td>\n",
       "    </tr>\n",
       "    <tr>\n",
       "      <th>73</th>\n",
       "      <td>Shah Rukh Khan &amp;amp; Rani Mukerji to feature o...</td>\n",
       "    </tr>\n",
       "    <tr>\n",
       "      <th>74</th>\n",
       "      <td>.@iHrithik SLAMS reports of @DishPatani WALKIN...</td>\n",
       "    </tr>\n",
       "    <tr>\n",
       "      <th>75</th>\n",
       "      <td>Shah Rukh Khan on Hollywood: I'd like Tom Crui...</td>\n",
       "    </tr>\n",
       "    <tr>\n",
       "      <th>80</th>\n",
       "      <td>#Pallywood #MensongePalestinien\\n\\nCette image...</td>\n",
       "    </tr>\n",
       "    <tr>\n",
       "      <th>102</th>\n",
       "      <td>Best Films Given By Nagarjuna To Bollywood, Wi...</td>\n",
       "    </tr>\n",
       "    <tr>\n",
       "      <th>118</th>\n",
       "      <td>Forget Hollywood, he hasn't acted in one good ...</td>\n",
       "    </tr>\n",
       "    <tr>\n",
       "      <th>123</th>\n",
       "      <td>#Loveratri: Gear up for #TeraHua song from #Aa...</td>\n",
       "    </tr>\n",
       "    <tr>\n",
       "      <th>126</th>\n",
       "      <td>Been ages since i've watched a good bollywood ...</td>\n",
       "    </tr>\n",
       "    <tr>\n",
       "      <th>133</th>\n",
       "      <td>https://t.co/cQJxpFcz9f\\n\\nswallow sexo cumsho...</td>\n",
       "    </tr>\n",
       "    <tr>\n",
       "      <th>143</th>\n",
       "      <td>https://t.co/JzgN0VgUWS\\n\\nglamour bollywood n...</td>\n",
       "    </tr>\n",
       "    <tr>\n",
       "      <th>151</th>\n",
       "      <td>All in all, Netflix’s production in India seem...</td>\n",
       "    </tr>\n",
       "    <tr>\n",
       "      <th>160</th>\n",
       "      <td>https://t.co/VX1SySmrEl\\n\\nsex girl lonely boo...</td>\n",
       "    </tr>\n",
       "    <tr>\n",
       "      <th>169</th>\n",
       "      <td>Szkoda, że w prawdziwym życiu wszystkich probl...</td>\n",
       "    </tr>\n",
       "    <tr>\n",
       "      <th>172</th>\n",
       "      <td>Best Films Given By Nagarjuna To Bollywood, Wi...</td>\n",
       "    </tr>\n",
       "    <tr>\n",
       "      <th>177</th>\n",
       "      <td>https://t.co/3GQpsnY5dz\\n\\nporno nubile films ...</td>\n",
       "    </tr>\n",
       "    <tr>\n",
       "      <th>179</th>\n",
       "      <td>https://t.co/X0QMVTZdvp\\n\\nfet videos youporn ...</td>\n",
       "    </tr>\n",
       "    <tr>\n",
       "      <th>200</th>\n",
       "      <td>https://t.co/HmkVQWrhRP\\n\\npov pics chick pass...</td>\n",
       "    </tr>\n",
       "    <tr>\n",
       "      <th>205</th>\n",
       "      <td>#Pallywood #MensongePalestinien\\n\\nCette image...</td>\n",
       "    </tr>\n",
       "    <tr>\n",
       "      <th>239</th>\n",
       "      <td>#Pallywood #MensongePalestinien\\n\\nCette image...</td>\n",
       "    </tr>\n",
       "    <tr>\n",
       "      <th>243</th>\n",
       "      <td>#Pallywood #MensongePalestinien\\n\\nCette image...</td>\n",
       "    </tr>\n",
       "    <tr>\n",
       "      <th>259</th>\n",
       "      <td>#Pallywood #MensongePalestinien\\n\\nCette image...</td>\n",
       "    </tr>\n",
       "    <tr>\n",
       "      <th>263</th>\n",
       "      <td>In a digital first age, there's still some cre...</td>\n",
       "    </tr>\n",
       "    <tr>\n",
       "      <th>268</th>\n",
       "      <td>Many hit films including 'Barsaat', 'Awaara', ...</td>\n",
       "    </tr>\n",
       "    <tr>\n",
       "      <th>269</th>\n",
       "      <td>https://t.co/hCHmBB1zsB\\n\\nbeauty russian hdv ...</td>\n",
       "    </tr>\n",
       "    <tr>\n",
       "      <th>...</th>\n",
       "      <td>...</td>\n",
       "    </tr>\n",
       "    <tr>\n",
       "      <th>716</th>\n",
       "      <td>https://t.co/oS7yWtHHOy\\n\\nteeny fake agent uk...</td>\n",
       "    </tr>\n",
       "    <tr>\n",
       "      <th>718</th>\n",
       "      <td>#Pallywood #MensongePalestinien\\n\\nCette image...</td>\n",
       "    </tr>\n",
       "    <tr>\n",
       "      <th>721</th>\n",
       "      <td>All you need to know about @Varun_dvn’s later ...</td>\n",
       "    </tr>\n",
       "    <tr>\n",
       "      <th>730</th>\n",
       "      <td>#Exclusive! \\n\\n#SatyamevaJayate director @zmi...</td>\n",
       "    </tr>\n",
       "    <tr>\n",
       "      <th>741</th>\n",
       "      <td>https://t.co/cOI0iJAX8n\\n\\nthe habib show mass...</td>\n",
       "    </tr>\n",
       "    <tr>\n",
       "      <th>752</th>\n",
       "      <td>Handsome AF ! @shahidkapoor totally steals our...</td>\n",
       "    </tr>\n",
       "    <tr>\n",
       "      <th>754</th>\n",
       "      <td>‘’HINDI SAMJHAANA” (Explaining Hindi) \\nPresen...</td>\n",
       "    </tr>\n",
       "    <tr>\n",
       "      <th>759</th>\n",
       "      <td>@akshaykumar's latest movie ‘Gold’, is now the...</td>\n",
       "    </tr>\n",
       "    <tr>\n",
       "      <th>767</th>\n",
       "      <td>Want to see the day when Tom Cruise, Christoph...</td>\n",
       "    </tr>\n",
       "    <tr>\n",
       "      <th>775</th>\n",
       "      <td>True Winner! #Balma song from #Pataakha has an...</td>\n",
       "    </tr>\n",
       "    <tr>\n",
       "      <th>785</th>\n",
       "      <td>True Winner! #Balma song from #Pataakha has an...</td>\n",
       "    </tr>\n",
       "    <tr>\n",
       "      <th>787</th>\n",
       "      <td>https://t.co/iaWuzCojXT\\n\\nporn redhead 2k vid...</td>\n",
       "    </tr>\n",
       "    <tr>\n",
       "      <th>796</th>\n",
       "      <td>SAME! Cannot wait for her songs to SLAY US. P....</td>\n",
       "    </tr>\n",
       "    <tr>\n",
       "      <th>802</th>\n",
       "      <td>https://t.co/g3rEkubTqs\\n\\nnaughty bdsm evil a...</td>\n",
       "    </tr>\n",
       "    <tr>\n",
       "      <th>803</th>\n",
       "      <td>https://t.co/VhvnY9d4ji\\n\\nswallow perfect gon...</td>\n",
       "    </tr>\n",
       "    <tr>\n",
       "      <th>811</th>\n",
       "      <td>#Pallywood #MensongePalestinien\\n\\nCette image...</td>\n",
       "    </tr>\n",
       "    <tr>\n",
       "      <th>817</th>\n",
       "      <td>#Exclusive! \\n\\n#SatyamevaJayate director @zmi...</td>\n",
       "    </tr>\n",
       "    <tr>\n",
       "      <th>824</th>\n",
       "      <td>Directed by @aliabbaszafar, the film marks thi...</td>\n",
       "    </tr>\n",
       "    <tr>\n",
       "      <th>827</th>\n",
       "      <td>Bharat Updates \\n@BeingSalmanKhan @Bharat_TheF...</td>\n",
       "    </tr>\n",
       "    <tr>\n",
       "      <th>840</th>\n",
       "      <td>#SalmanKhan 👉 Top Actor this decade.D Blockbus...</td>\n",
       "    </tr>\n",
       "    <tr>\n",
       "      <th>860</th>\n",
       "      <td>#Pallywood #MensongePalestinien\\n\\nCette image...</td>\n",
       "    </tr>\n",
       "    <tr>\n",
       "      <th>886</th>\n",
       "      <td>Directed by @aliabbaszafar, the film marks thi...</td>\n",
       "    </tr>\n",
       "    <tr>\n",
       "      <th>891</th>\n",
       "      <td>@igknightr 😂 😂 😂 Even it is copied/inspired fi...</td>\n",
       "    </tr>\n",
       "    <tr>\n",
       "      <th>911</th>\n",
       "      <td>@BeingSalmanKhan @Bharat_TheFilm Who is your f...</td>\n",
       "    </tr>\n",
       "    <tr>\n",
       "      <th>948</th>\n",
       "      <td>#VishalBhardwaj had earlier expressed his desi...</td>\n",
       "    </tr>\n",
       "    <tr>\n",
       "      <th>961</th>\n",
       "      <td>https://t.co/zlVZw3Q0O2\\n\\nblonde bonga cams o...</td>\n",
       "    </tr>\n",
       "    <tr>\n",
       "      <th>962</th>\n",
       "      <td>@SalKatTFan @TheSambitsamaI That is why Katrin...</td>\n",
       "    </tr>\n",
       "    <tr>\n",
       "      <th>967</th>\n",
       "      <td>Bharat Updates \\n@BeingSalmanKhan @Bharat_TheF...</td>\n",
       "    </tr>\n",
       "    <tr>\n",
       "      <th>979</th>\n",
       "      <td>Dharmendra, Sunny Deol and Bobby Deol in exclu...</td>\n",
       "    </tr>\n",
       "    <tr>\n",
       "      <th>996</th>\n",
       "      <td>Sharing these pics shared with me by @iamsrk f...</td>\n",
       "    </tr>\n",
       "  </tbody>\n",
       "</table>\n",
       "<p>121 rows × 1 columns</p>\n",
       "</div>"
      ],
      "text/plain": [
       "                                                  text\n",
       "15   https://t.co/dFmeesZgHc\\n\\n4k dick porn girl m...\n",
       "23   @Official_MNCTV min minggu esok mohon tayangin...\n",
       "46   Mauji and Mamta back from #SuiDhaagaInJaipur p...\n",
       "49   Sharing these pics shared with me by @iamsrk f...\n",
       "56   #Pallywood #MensongePalestinien\\n\\nCette image...\n",
       "69   Shah Rukh Khan says he has never been offered ...\n",
       "73   Shah Rukh Khan &amp; Rani Mukerji to feature o...\n",
       "74   .@iHrithik SLAMS reports of @DishPatani WALKIN...\n",
       "75   Shah Rukh Khan on Hollywood: I'd like Tom Crui...\n",
       "80   #Pallywood #MensongePalestinien\\n\\nCette image...\n",
       "102  Best Films Given By Nagarjuna To Bollywood, Wi...\n",
       "118  Forget Hollywood, he hasn't acted in one good ...\n",
       "123  #Loveratri: Gear up for #TeraHua song from #Aa...\n",
       "126  Been ages since i've watched a good bollywood ...\n",
       "133  https://t.co/cQJxpFcz9f\\n\\nswallow sexo cumsho...\n",
       "143  https://t.co/JzgN0VgUWS\\n\\nglamour bollywood n...\n",
       "151  All in all, Netflix’s production in India seem...\n",
       "160  https://t.co/VX1SySmrEl\\n\\nsex girl lonely boo...\n",
       "169  Szkoda, że w prawdziwym życiu wszystkich probl...\n",
       "172  Best Films Given By Nagarjuna To Bollywood, Wi...\n",
       "177  https://t.co/3GQpsnY5dz\\n\\nporno nubile films ...\n",
       "179  https://t.co/X0QMVTZdvp\\n\\nfet videos youporn ...\n",
       "200  https://t.co/HmkVQWrhRP\\n\\npov pics chick pass...\n",
       "205  #Pallywood #MensongePalestinien\\n\\nCette image...\n",
       "239  #Pallywood #MensongePalestinien\\n\\nCette image...\n",
       "243  #Pallywood #MensongePalestinien\\n\\nCette image...\n",
       "259  #Pallywood #MensongePalestinien\\n\\nCette image...\n",
       "263  In a digital first age, there's still some cre...\n",
       "268  Many hit films including 'Barsaat', 'Awaara', ...\n",
       "269  https://t.co/hCHmBB1zsB\\n\\nbeauty russian hdv ...\n",
       "..                                                 ...\n",
       "716  https://t.co/oS7yWtHHOy\\n\\nteeny fake agent uk...\n",
       "718  #Pallywood #MensongePalestinien\\n\\nCette image...\n",
       "721  All you need to know about @Varun_dvn’s later ...\n",
       "730  #Exclusive! \\n\\n#SatyamevaJayate director @zmi...\n",
       "741  https://t.co/cOI0iJAX8n\\n\\nthe habib show mass...\n",
       "752  Handsome AF ! @shahidkapoor totally steals our...\n",
       "754  ‘’HINDI SAMJHAANA” (Explaining Hindi) \\nPresen...\n",
       "759  @akshaykumar's latest movie ‘Gold’, is now the...\n",
       "767  Want to see the day when Tom Cruise, Christoph...\n",
       "775  True Winner! #Balma song from #Pataakha has an...\n",
       "785  True Winner! #Balma song from #Pataakha has an...\n",
       "787  https://t.co/iaWuzCojXT\\n\\nporn redhead 2k vid...\n",
       "796  SAME! Cannot wait for her songs to SLAY US. P....\n",
       "802  https://t.co/g3rEkubTqs\\n\\nnaughty bdsm evil a...\n",
       "803  https://t.co/VhvnY9d4ji\\n\\nswallow perfect gon...\n",
       "811  #Pallywood #MensongePalestinien\\n\\nCette image...\n",
       "817  #Exclusive! \\n\\n#SatyamevaJayate director @zmi...\n",
       "824  Directed by @aliabbaszafar, the film marks thi...\n",
       "827  Bharat Updates \\n@BeingSalmanKhan @Bharat_TheF...\n",
       "840  #SalmanKhan 👉 Top Actor this decade.D Blockbus...\n",
       "860  #Pallywood #MensongePalestinien\\n\\nCette image...\n",
       "886  Directed by @aliabbaszafar, the film marks thi...\n",
       "891  @igknightr 😂 😂 😂 Even it is copied/inspired fi...\n",
       "911  @BeingSalmanKhan @Bharat_TheFilm Who is your f...\n",
       "948  #VishalBhardwaj had earlier expressed his desi...\n",
       "961  https://t.co/zlVZw3Q0O2\\n\\nblonde bonga cams o...\n",
       "962  @SalKatTFan @TheSambitsamaI That is why Katrin...\n",
       "967  Bharat Updates \\n@BeingSalmanKhan @Bharat_TheF...\n",
       "979  Dharmendra, Sunny Deol and Bobby Deol in exclu...\n",
       "996  Sharing these pics shared with me by @iamsrk f...\n",
       "\n",
       "[121 rows x 1 columns]"
      ]
     },
     "execution_count": 101,
     "metadata": {},
     "output_type": "execute_result"
    }
   ],
   "source": [
    "tweet_df[mask][['text']]"
   ]
  },
  {
   "cell_type": "code",
   "execution_count": 94,
   "metadata": {},
   "outputs": [
    {
     "name": "stderr",
     "output_type": "stream",
     "text": [
      "WARNING:root:collecting tweets from the API\n",
      "WARNING:searchtweets.result_stream:retrying request; current status code: 429\n",
      "WARNING:searchtweets.result_stream:retrying request; current status code: 429\n",
      "WARNING:searchtweets.result_stream:retrying request; current status code: 429\n",
      "WARNING:searchtweets.result_stream:retrying request; current status code: 429\n",
      "WARNING:searchtweets.result_stream:retrying request; current status code: 429\n",
      "WARNING:searchtweets.result_stream:retrying request; current status code: 429\n",
      "WARNING:searchtweets.result_stream:retrying request; current status code: 429\n",
      "WARNING:searchtweets.result_stream:retrying request; current status code: 429\n",
      "WARNING:searchtweets.result_stream:retrying request; current status code: 429\n",
      "WARNING:searchtweets.result_stream:retrying request; current status code: 429\n",
      "WARNING:searchtweets.result_stream:retrying request; current status code: 429\n",
      "WARNING:searchtweets.result_stream:retrying request; current status code: 429\n",
      "WARNING:searchtweets.result_stream:retrying request; current status code: 429\n",
      "WARNING:searchtweets.result_stream:retrying request; current status code: 429\n",
      "WARNING:searchtweets.result_stream:retrying request; current status code: 429\n",
      "WARNING:searchtweets.result_stream:retrying request; current status code: 429\n",
      "WARNING:searchtweets.result_stream:retrying request; current status code: 429\n"
     ]
    }
   ],
   "source": [
    "tweets_larger = maybe_get_tweets(file_name=\"data/larger-bollywood.json\",\n",
    "                          rule=rule,\n",
    "                          max_results=20000)"
   ]
  },
  {
   "cell_type": "code",
   "execution_count": 102,
   "metadata": {},
   "outputs": [
    {
     "name": "stdout",
     "output_type": "stream",
     "text": [
      "hello world\n"
     ]
    }
   ],
   "source": [
    "print(\"hello world\")"
   ]
  },
  {
   "cell_type": "code",
   "execution_count": 103,
   "metadata": {},
   "outputs": [],
   "source": [
    "tokens_larger = get_all_tokens(tweets_larger)"
   ]
  },
  {
   "cell_type": "code",
   "execution_count": 113,
   "metadata": {},
   "outputs": [],
   "source": [
    "from stop_words import get_stop_words\n",
    "stop_words = get_stop_words('english')\n",
    "\n",
    "tokens_larger = [tok for tok in tokens_larger if not tok in stop_words]\n",
    "tokens_larger = [tok for tok in tokens_larger if not tok in string.punctuation]"
   ]
  },
  {
   "cell_type": "code",
   "execution_count": 114,
   "metadata": {},
   "outputs": [
    {
     "data": {
      "text/plain": [
       "[(('bollywood',), 9053),\n",
       " (('#bollywood',), 2993),\n",
       " (('ा',), 2609),\n",
       " (('’',), 2582),\n",
       " (('s',), 2470),\n",
       " (('khan',), 2247),\n",
       " (('े',), 2013),\n",
       " (('’', 's'), 1642),\n",
       " (('ी',), 1595),\n",
       " (('@iamsrk',), 1477),\n",
       " (('क',), 1458),\n",
       " (('ali',), 1394),\n",
       " (('one',), 1351),\n",
       " (('ali', 'khan'), 1323),\n",
       " (('sara',), 1253),\n",
       " (('sara', 'ali'), 1246),\n",
       " (('sara', 'ali', 'khan'), 1246),\n",
       " (('्',), 1234),\n",
       " (('will',), 1176),\n",
       " (('...',), 1162),\n",
       " (('actor',), 1158),\n",
       " (('film',), 1148),\n",
       " (('ि',), 1138),\n",
       " (('hd',), 1129),\n",
       " (('porn',), 1123)]"
      ]
     },
     "execution_count": 114,
     "metadata": {},
     "output_type": "execute_result"
    }
   ],
   "source": [
    "Counter(everygrams(tokens_larger, min_len=1, max_len=4)).most_common(25)"
   ]
  },
  {
   "cell_type": "code",
   "execution_count": 115,
   "metadata": {},
   "outputs": [
    {
     "data": {
      "text/plain": [
       "[(('’', 's'), 1642),\n",
       " (('ali', 'khan'), 1323),\n",
       " (('sara', 'ali'), 1246),\n",
       " (('sara', 'ali', 'khan'), 1246),\n",
       " (('bollywood', 'nudes'), 877),\n",
       " (('nudes', 'hd'), 877),\n",
       " (('bollywood', 'nudes', 'hd'), 877),\n",
       " (('trolling', 'sara'), 641),\n",
       " (('khan', 'visiting'), 641),\n",
       " (('visiting', 'temple'), 641),\n",
       " (('secular', 'fabric'), 641),\n",
       " (('trolling', 'sara', 'ali'), 641),\n",
       " (('ali', 'khan', 'visiting'), 641),\n",
       " (('khan', 'visiting', 'temple'), 641),\n",
       " (('trolling', 'sara', 'ali', 'khan'), 641),\n",
       " (('sara', 'ali', 'khan', 'visiting'), 641),\n",
       " (('ali', 'khan', 'visiting', 'temple'), 641),\n",
       " (('bollywood', 'celebrities'), 613),\n",
       " (('south', 'superstar'), 595),\n",
       " (('shilpa', 'shinde'), 587),\n",
       " (('amrita', 'singh'), 580),\n",
       " (('celebrities', 'support'), 580),\n",
       " (('bollywood', 'celebrities', 'support'), 580),\n",
       " (('radicals', 'abusing'), 579),\n",
       " (('abusing', 'trolling'), 579)]"
      ]
     },
     "execution_count": 115,
     "metadata": {},
     "output_type": "execute_result"
    }
   ],
   "source": [
    "Counter(everygrams(tokens_larger, min_len=2, max_len=4)).most_common(25)"
   ]
  },
  {
   "cell_type": "code",
   "execution_count": 116,
   "metadata": {},
   "outputs": [],
   "source": [
    "t = tweets_larger[0]"
   ]
  },
  {
   "cell_type": "code",
   "execution_count": null,
   "metadata": {},
   "outputs": [],
   "source": []
  }
 ],
 "metadata": {
  "kernelspec": {
   "display_name": "Python 3",
   "language": "python",
   "name": "python3"
  },
  "language_info": {
   "codemirror_mode": {
    "name": "ipython",
    "version": 3
   },
   "file_extension": ".py",
   "mimetype": "text/x-python",
   "name": "python",
   "nbconvert_exporter": "python",
   "pygments_lexer": "ipython3",
   "version": "3.6.6"
  }
 },
 "nbformat": 4,
 "nbformat_minor": 2
}
