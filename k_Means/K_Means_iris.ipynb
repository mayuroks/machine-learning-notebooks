{
 "cells": [
  {
   "cell_type": "code",
   "execution_count": 1,
   "metadata": {},
   "outputs": [],
   "source": [
    "# Import modules\n",
    "from sklearn import datasets\n",
    "from sklearn.cluster import KMeans"
   ]
  },
  {
   "cell_type": "code",
   "execution_count": 2,
   "metadata": {},
   "outputs": [],
   "source": [
    "# Loading dataset\n",
    "iris_df = datasets.load_iris()"
   ]
  },
  {
   "cell_type": "code",
   "execution_count": 4,
   "metadata": {},
   "outputs": [],
   "source": [
    "# Declaring Model/ Why??\n",
    "model = KMeans(n_clusters=3)"
   ]
  },
  {
   "cell_type": "code",
   "execution_count": 6,
   "metadata": {},
   "outputs": [
    {
     "data": {
      "text/plain": [
       "KMeans(algorithm='auto', copy_x=True, init='k-means++', max_iter=300,\n",
       "    n_clusters=3, n_init=10, n_jobs=1, precompute_distances='auto',\n",
       "    random_state=None, tol=0.0001, verbose=0)"
      ]
     },
     "execution_count": 6,
     "metadata": {},
     "output_type": "execute_result"
    }
   ],
   "source": [
    "# Fitting model\n",
    "model.fit(iris_df.data)"
   ]
  },
  {
   "cell_type": "code",
   "execution_count": 8,
   "metadata": {},
   "outputs": [],
   "source": [
    "# Predicting a single input\n",
    "predicated_label = model.predict([[7.2, 3.5, 0.8, 1.6]])\n",
    "all_predictions = model.predict(iris_df.data)"
   ]
  },
  {
   "cell_type": "code",
   "execution_count": 9,
   "metadata": {},
   "outputs": [
    {
     "name": "stdout",
     "output_type": "stream",
     "text": [
      "[1]\n",
      "[1 1 1 1 1 1 1 1 1 1 1 1 1 1 1 1 1 1 1 1 1 1 1 1 1 1 1 1 1 1 1 1 1 1 1 1 1\n",
      " 1 1 1 1 1 1 1 1 1 1 1 1 1 0 0 2 0 0 0 0 0 0 0 0 0 0 0 0 0 0 0 0 0 0 0 0 0\n",
      " 0 0 0 2 0 0 0 0 0 0 0 0 0 0 0 0 0 0 0 0 0 0 0 0 0 0 2 0 2 2 2 2 0 2 2 2 2\n",
      " 2 2 0 0 2 2 2 2 0 2 0 2 0 2 2 0 0 2 2 2 2 2 0 2 2 2 2 0 2 2 2 0 2 2 2 0 2\n",
      " 2 0]\n"
     ]
    }
   ],
   "source": [
    "# Printing on the entire data\n",
    "print(predicated_label)\n",
    "print(all_predictions)"
   ]
  },
  {
   "cell_type": "code",
   "execution_count": 11,
   "metadata": {},
   "outputs": [],
   "source": [
    "# Importing modules\n",
    "from scipy.cluster.hierarchy import linkage, dendrogram\n",
    "import matplotlib.pyplot as plt\n",
    "import pandas as pd"
   ]
  },
  {
   "cell_type": "code",
   "execution_count": 12,
   "metadata": {},
   "outputs": [],
   "source": [
    "# Reading the DataFrame\n",
    "seeds_df = pd.read_csv(\n",
    "    \"https://raw.githubusercontent.com/vihar/unsupervised-learning-with-python/master/seeds-less-rows.csv\")\n"
   ]
  },
  {
   "cell_type": "code",
   "execution_count": 13,
   "metadata": {},
   "outputs": [],
   "source": [
    "# Remove the grain species from the DataFrame, save for later\n",
    "varieties = list(seeds_df.pop('grain_variety'))"
   ]
  },
  {
   "cell_type": "code",
   "execution_count": 15,
   "metadata": {},
   "outputs": [],
   "source": [
    "# Extract the measurements as a NumPy array\n",
    "samples = seeds_df.values"
   ]
  },
  {
   "cell_type": "code",
   "execution_count": 19,
   "metadata": {},
   "outputs": [],
   "source": [
    "mergings = linkage(samples, method='complete')"
   ]
  },
  {
   "cell_type": "code",
   "execution_count": 22,
   "metadata": {},
   "outputs": [
    {
     "data": {
      "text/plain": [
       "{'icoord': [[15.0, 15.0, 25.0, 25.0],\n",
       "  [5.0, 5.0, 20.0, 20.0],\n",
       "  [45.0, 45.0, 55.0, 55.0],\n",
       "  [35.0, 35.0, 50.0, 50.0],\n",
       "  [12.5, 12.5, 42.5, 42.5],\n",
       "  [75.0, 75.0, 85.0, 85.0],\n",
       "  [65.0, 65.0, 80.0, 80.0],\n",
       "  [27.5, 27.5, 72.5, 72.5],\n",
       "  [105.0, 105.0, 115.0, 115.0],\n",
       "  [95.0, 95.0, 110.0, 110.0],\n",
       "  [125.0, 125.0, 135.0, 135.0],\n",
       "  [155.0, 155.0, 165.0, 165.0],\n",
       "  [145.0, 145.0, 160.0, 160.0],\n",
       "  [130.0, 130.0, 152.5, 152.5],\n",
       "  [102.5, 102.5, 141.25, 141.25],\n",
       "  [50.0, 50.0, 121.875, 121.875],\n",
       "  [185.0, 185.0, 195.0, 195.0],\n",
       "  [175.0, 175.0, 190.0, 190.0],\n",
       "  [225.0, 225.0, 235.0, 235.0],\n",
       "  [215.0, 215.0, 230.0, 230.0],\n",
       "  [205.0, 205.0, 222.5, 222.5],\n",
       "  [182.5, 182.5, 213.75, 213.75],\n",
       "  [245.0, 245.0, 255.0, 255.0],\n",
       "  [275.0, 275.0, 285.0, 285.0],\n",
       "  [265.0, 265.0, 280.0, 280.0],\n",
       "  [295.0, 295.0, 305.0, 305.0],\n",
       "  [272.5, 272.5, 300.0, 300.0],\n",
       "  [250.0, 250.0, 286.25, 286.25],\n",
       "  [198.125, 198.125, 268.125, 268.125],\n",
       "  [315.0, 315.0, 325.0, 325.0],\n",
       "  [335.0, 335.0, 345.0, 345.0],\n",
       "  [355.0, 355.0, 365.0, 365.0],\n",
       "  [375.0, 375.0, 385.0, 385.0],\n",
       "  [360.0, 360.0, 380.0, 380.0],\n",
       "  [340.0, 340.0, 370.0, 370.0],\n",
       "  [405.0, 405.0, 415.0, 415.0],\n",
       "  [395.0, 395.0, 410.0, 410.0],\n",
       "  [355.0, 355.0, 402.5, 402.5],\n",
       "  [320.0, 320.0, 378.75, 378.75],\n",
       "  [233.125, 233.125, 349.375, 349.375],\n",
       "  [85.9375, 85.9375, 291.25, 291.25]],\n",
       " 'dcoord': [[0.0, 0.2716290853351305, 0.2716290853351305, 0.0],\n",
       "  [0.0, 0.7554129731478005, 0.7554129731478005, 0.2716290853351305],\n",
       "  [0.0, 0.683593629285703, 0.683593629285703, 0.0],\n",
       "  [0.0, 1.3769048768887413, 1.3769048768887413, 0.683593629285703],\n",
       "  [0.7554129731478005,\n",
       "   1.6651719460764396,\n",
       "   1.6651719460764396,\n",
       "   1.3769048768887413],\n",
       "  [0.0, 0.7906670348509532, 0.7906670348509532, 0.0],\n",
       "  [0.0, 2.089800382811717, 2.089800382811717, 0.7906670348509532],\n",
       "  [1.6651719460764396,\n",
       "   3.1344841680889064,\n",
       "   3.1344841680889064,\n",
       "   2.089800382811717],\n",
       "  [0.0, 1.1373373510089253, 1.1373373510089253, 0.0],\n",
       "  [0.0, 1.28676336596905, 1.28676336596905, 1.1373373510089253],\n",
       "  [0.0, 0.7612957703810003, 0.7612957703810003, 0.0],\n",
       "  [0.0, 0.3465732822939474, 0.3465732822939474, 0.0],\n",
       "  [0.0, 0.9895661928340116, 0.9895661928340116, 0.3465732822939474],\n",
       "  [0.7612957703810003,\n",
       "   2.133855374668115,\n",
       "   2.133855374668115,\n",
       "   0.9895661928340116],\n",
       "  [1.28676336596905, 3.257446516828787, 3.257446516828787, 2.133855374668115],\n",
       "  [3.1344841680889064,\n",
       "   5.457893118227948,\n",
       "   5.457893118227948,\n",
       "   3.257446516828787],\n",
       "  [0.0, 0.6444799531405162, 0.6444799531405162, 0.0],\n",
       "  [0.0, 1.0589175652523664, 1.0589175652523664, 0.6444799531405162],\n",
       "  [0.0, 0.3891695774337962, 0.3891695774337962, 0.0],\n",
       "  [0.0, 0.8901518353629344, 0.8901518353629344, 0.3891695774337962],\n",
       "  [0.0, 1.7423478441459395, 1.7423478441459395, 0.8901518353629344],\n",
       "  [1.0589175652523664,\n",
       "   2.3185225122909627,\n",
       "   2.3185225122909627,\n",
       "   1.7423478441459395],\n",
       "  [0.0, 1.1154309884524465, 1.1154309884524465, 0.0],\n",
       "  [0.0, 0.31365739270739296, 0.31365739270739296, 0.0],\n",
       "  [0.0, 0.3284658886399013, 0.3284658886399013, 0.31365739270739296],\n",
       "  [0.0, 0.37233454043373365, 0.37233454043373365, 0.0],\n",
       "  [0.3284658886399013,\n",
       "   1.166204098775165,\n",
       "   1.166204098775165,\n",
       "   0.37233454043373365],\n",
       "  [1.1154309884524465,\n",
       "   2.336861947141936,\n",
       "   2.336861947141936,\n",
       "   1.166204098775165],\n",
       "  [2.3185225122909627,\n",
       "   3.7158031648622076,\n",
       "   3.7158031648622076,\n",
       "   2.336861947141936],\n",
       "  [0.0, 2.2218703832582127, 2.2218703832582127, 0.0],\n",
       "  [0.0, 0.6667165814647175, 0.6667165814647175, 0.0],\n",
       "  [0.0, 0.4851990931566141, 0.4851990931566141, 0.0],\n",
       "  [0.0, 0.6022051145581543, 0.6022051145581543, 0.0],\n",
       "  [0.4851990931566141,\n",
       "   1.5286512486502604,\n",
       "   1.5286512486502604,\n",
       "   0.6022051145581543],\n",
       "  [0.6667165814647175,\n",
       "   1.9101542372279785,\n",
       "   1.9101542372279785,\n",
       "   1.5286512486502604],\n",
       "  [0.0, 0.9607774195931134, 0.9607774195931134, 0.0],\n",
       "  [0.0, 1.9174903519965882, 1.9174903519965882, 0.9607774195931134],\n",
       "  [1.9101542372279785,\n",
       "   2.7677903533324195,\n",
       "   2.7677903533324195,\n",
       "   1.9174903519965882],\n",
       "  [2.2218703832582127,\n",
       "   4.6811698794211685,\n",
       "   4.6811698794211685,\n",
       "   2.7677903533324195],\n",
       "  [3.7158031648622076,\n",
       "   6.7460842686702325,\n",
       "   6.7460842686702325,\n",
       "   4.6811698794211685],\n",
       "  [5.457893118227948,\n",
       "   9.612302375601798,\n",
       "   9.612302375601798,\n",
       "   6.7460842686702325]],\n",
       " 'ivl': ['Canadian wheat',\n",
       "  'Canadian wheat',\n",
       "  'Canadian wheat',\n",
       "  'Canadian wheat',\n",
       "  'Canadian wheat',\n",
       "  'Canadian wheat',\n",
       "  'Canadian wheat',\n",
       "  'Canadian wheat',\n",
       "  'Canadian wheat',\n",
       "  'Kama wheat',\n",
       "  'Kama wheat',\n",
       "  'Canadian wheat',\n",
       "  'Kama wheat',\n",
       "  'Canadian wheat',\n",
       "  'Canadian wheat',\n",
       "  'Canadian wheat',\n",
       "  'Canadian wheat',\n",
       "  'Rosa wheat',\n",
       "  'Rosa wheat',\n",
       "  'Rosa wheat',\n",
       "  'Rosa wheat',\n",
       "  'Rosa wheat',\n",
       "  'Rosa wheat',\n",
       "  'Rosa wheat',\n",
       "  'Rosa wheat',\n",
       "  'Rosa wheat',\n",
       "  'Rosa wheat',\n",
       "  'Rosa wheat',\n",
       "  'Rosa wheat',\n",
       "  'Rosa wheat',\n",
       "  'Rosa wheat',\n",
       "  'Kama wheat',\n",
       "  'Kama wheat',\n",
       "  'Kama wheat',\n",
       "  'Kama wheat',\n",
       "  'Kama wheat',\n",
       "  'Kama wheat',\n",
       "  'Kama wheat',\n",
       "  'Kama wheat',\n",
       "  'Kama wheat',\n",
       "  'Kama wheat',\n",
       "  'Kama wheat'],\n",
       " 'leaves': [39,\n",
       "  33,\n",
       "  36,\n",
       "  35,\n",
       "  32,\n",
       "  37,\n",
       "  28,\n",
       "  30,\n",
       "  34,\n",
       "  5,\n",
       "  8,\n",
       "  40,\n",
       "  12,\n",
       "  29,\n",
       "  31,\n",
       "  38,\n",
       "  41,\n",
       "  16,\n",
       "  23,\n",
       "  25,\n",
       "  14,\n",
       "  24,\n",
       "  15,\n",
       "  27,\n",
       "  17,\n",
       "  20,\n",
       "  18,\n",
       "  21,\n",
       "  26,\n",
       "  19,\n",
       "  22,\n",
       "  3,\n",
       "  10,\n",
       "  0,\n",
       "  9,\n",
       "  4,\n",
       "  11,\n",
       "  2,\n",
       "  13,\n",
       "  7,\n",
       "  1,\n",
       "  6],\n",
       " 'color_list': ['g',\n",
       "  'g',\n",
       "  'g',\n",
       "  'g',\n",
       "  'g',\n",
       "  'g',\n",
       "  'g',\n",
       "  'g',\n",
       "  'g',\n",
       "  'g',\n",
       "  'g',\n",
       "  'g',\n",
       "  'g',\n",
       "  'g',\n",
       "  'g',\n",
       "  'g',\n",
       "  'r',\n",
       "  'r',\n",
       "  'r',\n",
       "  'r',\n",
       "  'r',\n",
       "  'r',\n",
       "  'r',\n",
       "  'r',\n",
       "  'r',\n",
       "  'r',\n",
       "  'r',\n",
       "  'r',\n",
       "  'r',\n",
       "  'c',\n",
       "  'c',\n",
       "  'c',\n",
       "  'c',\n",
       "  'c',\n",
       "  'c',\n",
       "  'c',\n",
       "  'c',\n",
       "  'c',\n",
       "  'c',\n",
       "  'b',\n",
       "  'b']}"
      ]
     },
     "execution_count": 22,
     "metadata": {},
     "output_type": "execute_result"
    },
    {
     "data": {
      "image/png": "[encoded data removed]",
      "text/plain": [
       "<Figure size 432x288 with 1 Axes>"
      ]
     },
     "metadata": {
      "needs_background": "light"
     },
     "output_type": "display_data"
    }
   ],
   "source": [
    "dendrogram(mergings, labels=varieties, leaf_rotation=90, leaf_font_size=6,)"
   ]
  },
  {
   "cell_type": "code",
   "execution_count": 21,
   "metadata": {},
   "outputs": [],
   "source": [
    "plt.show()"
   ]
  },
  {
   "cell_type": "code",
   "execution_count": 23,
   "metadata": {},
   "outputs": [],
   "source": [
    "from sklearn.manifold import TSNE"
   ]
  },
  {
   "cell_type": "code",
   "execution_count": 24,
   "metadata": {},
   "outputs": [],
   "source": [
    "# Defining Model\n",
    "model = TSNE(learning_rate=100)"
   ]
  },
  {
   "cell_type": "code",
   "execution_count": 25,
   "metadata": {},
   "outputs": [],
   "source": [
    "# Fitting Model\n",
    "transformed = model.fit_transform(iris_df.data)"
   ]
  },
  {
   "cell_type": "code",
   "execution_count": 26,
   "metadata": {},
   "outputs": [
    {
     "data": {
      "image/png": "[encoded data removed]",
      "text/plain": [
       "<Figure size 432x288 with 1 Axes>"
      ]
     },
     "metadata": {
      "needs_background": "light"
     },
     "output_type": "display_data"
    }
   ],
   "source": [
    "# Plotting 2d t-Sne\n",
    "x_axis = transformed[:, 0]\n",
    "y_axis = transformed[:, 1]\n",
    "\n",
    "plt.scatter(x_axis, y_axis, c=iris_df.target)\n",
    "plt.show()"
   ]
  },
  {
   "cell_type": "code",
   "execution_count": null,
   "metadata": {},
   "outputs": [],
   "source": []
  }
 ],
 "metadata": {
  "kernelspec": {
   "display_name": "Python 3",
   "language": "python",
   "name": "python3"
  },
  "language_info": {
   "codemirror_mode": {
    "name": "ipython",
    "version": 3
   },
   "file_extension": ".py",
   "mimetype": "text/x-python",
   "name": "python",
   "nbconvert_exporter": "python",
   "pygments_lexer": "ipython3",
   "version": "3.6.6"
  }
 },
 "nbformat": 4,
 "nbformat_minor": 2
}
