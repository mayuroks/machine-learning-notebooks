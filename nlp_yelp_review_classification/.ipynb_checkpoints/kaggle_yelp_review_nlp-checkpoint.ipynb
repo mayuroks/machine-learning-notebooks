{
 "cells": [
  {
   "cell_type": "code",
   "execution_count": 2,
   "metadata": {},
   "outputs": [],
   "source": [
    "import pandas as pd"
   ]
  },
  {
   "cell_type": "code",
   "execution_count": 3,
   "metadata": {},
   "outputs": [],
   "source": [
    "yelp = pd.read_csv('yelp_academic_dataset_review.csv')"
   ]
  },
  {
   "cell_type": "code",
   "execution_count": 4,
   "metadata": {},
   "outputs": [
    {
     "data": {
      "text/html": [
       "<div>\n",
       "<style scoped>\n",
       "    .dataframe tbody tr th:only-of-type {\n",
       "        vertical-align: middle;\n",
       "    }\n",
       "\n",
       "    .dataframe tbody tr th {\n",
       "        vertical-align: top;\n",
       "    }\n",
       "\n",
       "    .dataframe thead th {\n",
       "        text-align: right;\n",
       "    }\n",
       "</style>\n",
       "<table border=\"1\" class=\"dataframe\">\n",
       "  <thead>\n",
       "    <tr style=\"text-align: right;\">\n",
       "      <th></th>\n",
       "      <th>cool</th>\n",
       "      <th>funny</th>\n",
       "      <th>stars</th>\n",
       "      <th>useful</th>\n",
       "    </tr>\n",
       "  </thead>\n",
       "  <tbody>\n",
       "    <tr>\n",
       "      <th>count</th>\n",
       "      <td>27763.000000</td>\n",
       "      <td>27763.000000</td>\n",
       "      <td>27763.000000</td>\n",
       "      <td>27763.000000</td>\n",
       "    </tr>\n",
       "    <tr>\n",
       "      <th>mean</th>\n",
       "      <td>0.255448</td>\n",
       "      <td>0.258618</td>\n",
       "      <td>3.659331</td>\n",
       "      <td>1.039945</td>\n",
       "    </tr>\n",
       "    <tr>\n",
       "      <th>std</th>\n",
       "      <td>0.804550</td>\n",
       "      <td>1.242876</td>\n",
       "      <td>1.555680</td>\n",
       "      <td>3.911780</td>\n",
       "    </tr>\n",
       "    <tr>\n",
       "      <th>min</th>\n",
       "      <td>0.000000</td>\n",
       "      <td>0.000000</td>\n",
       "      <td>1.000000</td>\n",
       "      <td>0.000000</td>\n",
       "    </tr>\n",
       "    <tr>\n",
       "      <th>25%</th>\n",
       "      <td>0.000000</td>\n",
       "      <td>0.000000</td>\n",
       "      <td>2.000000</td>\n",
       "      <td>0.000000</td>\n",
       "    </tr>\n",
       "    <tr>\n",
       "      <th>50%</th>\n",
       "      <td>0.000000</td>\n",
       "      <td>0.000000</td>\n",
       "      <td>4.000000</td>\n",
       "      <td>0.000000</td>\n",
       "    </tr>\n",
       "    <tr>\n",
       "      <th>75%</th>\n",
       "      <td>0.000000</td>\n",
       "      <td>0.000000</td>\n",
       "      <td>5.000000</td>\n",
       "      <td>1.000000</td>\n",
       "    </tr>\n",
       "    <tr>\n",
       "      <th>max</th>\n",
       "      <td>43.000000</td>\n",
       "      <td>83.000000</td>\n",
       "      <td>5.000000</td>\n",
       "      <td>536.000000</td>\n",
       "    </tr>\n",
       "  </tbody>\n",
       "</table>\n",
       "</div>"
      ],
      "text/plain": [
       "               cool         funny         stars        useful\n",
       "count  27763.000000  27763.000000  27763.000000  27763.000000\n",
       "mean       0.255448      0.258618      3.659331      1.039945\n",
       "std        0.804550      1.242876      1.555680      3.911780\n",
       "min        0.000000      0.000000      1.000000      0.000000\n",
       "25%        0.000000      0.000000      2.000000      0.000000\n",
       "50%        0.000000      0.000000      4.000000      0.000000\n",
       "75%        0.000000      0.000000      5.000000      1.000000\n",
       "max       43.000000     83.000000      5.000000    536.000000"
      ]
     },
     "execution_count": 4,
     "metadata": {},
     "output_type": "execute_result"
    }
   ],
   "source": [
    "yelp.describe()"
   ]
  },
  {
   "cell_type": "code",
   "execution_count": 5,
   "metadata": {},
   "outputs": [
    {
     "data": {
      "text/html": [
       "<div>\n",
       "<style scoped>\n",
       "    .dataframe tbody tr th:only-of-type {\n",
       "        vertical-align: middle;\n",
       "    }\n",
       "\n",
       "    .dataframe tbody tr th {\n",
       "        vertical-align: top;\n",
       "    }\n",
       "\n",
       "    .dataframe thead th {\n",
       "        text-align: right;\n",
       "    }\n",
       "</style>\n",
       "<table border=\"1\" class=\"dataframe\">\n",
       "  <thead>\n",
       "    <tr style=\"text-align: right;\">\n",
       "      <th></th>\n",
       "      <th>business_id</th>\n",
       "      <th>cool</th>\n",
       "      <th>date</th>\n",
       "      <th>funny</th>\n",
       "      <th>review_id</th>\n",
       "      <th>stars</th>\n",
       "      <th>text</th>\n",
       "      <th>useful</th>\n",
       "      <th>user_id</th>\n",
       "    </tr>\n",
       "  </thead>\n",
       "  <tbody>\n",
       "    <tr>\n",
       "      <th>0</th>\n",
       "      <td>iCQpiavjjPzJ5_3gPD5Ebg</td>\n",
       "      <td>0</td>\n",
       "      <td>2011-02-25</td>\n",
       "      <td>0</td>\n",
       "      <td>x7mDIiDB3jEiPGPHOmDzyw</td>\n",
       "      <td>2</td>\n",
       "      <td>The pizza was okay. Not the best I've had. I p...</td>\n",
       "      <td>0</td>\n",
       "      <td>msQe1u7Z_XuqjGoqhB0J5g</td>\n",
       "    </tr>\n",
       "    <tr>\n",
       "      <th>1</th>\n",
       "      <td>pomGBqfbxcqPv14c3XH-ZQ</td>\n",
       "      <td>0</td>\n",
       "      <td>2012-11-13</td>\n",
       "      <td>0</td>\n",
       "      <td>dDl8zu1vWPdKGihJrwQbpw</td>\n",
       "      <td>5</td>\n",
       "      <td>I love this place! My fiance And I go here atl...</td>\n",
       "      <td>0</td>\n",
       "      <td>msQe1u7Z_XuqjGoqhB0J5g</td>\n",
       "    </tr>\n",
       "    <tr>\n",
       "      <th>2</th>\n",
       "      <td>jtQARsP6P-LbkyjbO1qNGg</td>\n",
       "      <td>1</td>\n",
       "      <td>2014-10-23</td>\n",
       "      <td>1</td>\n",
       "      <td>LZp4UX5zK3e-c5ZGSeo3kA</td>\n",
       "      <td>1</td>\n",
       "      <td>Terrible. Dry corn bread. Rib tips were all fa...</td>\n",
       "      <td>3</td>\n",
       "      <td>msQe1u7Z_XuqjGoqhB0J5g</td>\n",
       "    </tr>\n",
       "    <tr>\n",
       "      <th>3</th>\n",
       "      <td>elqbBhBfElMNSrjFqW3now</td>\n",
       "      <td>0</td>\n",
       "      <td>2011-02-25</td>\n",
       "      <td>0</td>\n",
       "      <td>Er4NBWCmCD4nM8_p1GRdow</td>\n",
       "      <td>2</td>\n",
       "      <td>Back in 2005-2007 this place was my FAVORITE t...</td>\n",
       "      <td>2</td>\n",
       "      <td>msQe1u7Z_XuqjGoqhB0J5g</td>\n",
       "    </tr>\n",
       "    <tr>\n",
       "      <th>4</th>\n",
       "      <td>Ums3gaP2qM3W1XcA5r6SsQ</td>\n",
       "      <td>0</td>\n",
       "      <td>2014-09-05</td>\n",
       "      <td>0</td>\n",
       "      <td>jsDu6QEJHbwP2Blom1PLCA</td>\n",
       "      <td>5</td>\n",
       "      <td>Delicious healthy food. The steak is amazing. ...</td>\n",
       "      <td>0</td>\n",
       "      <td>msQe1u7Z_XuqjGoqhB0J5g</td>\n",
       "    </tr>\n",
       "  </tbody>\n",
       "</table>\n",
       "</div>"
      ],
      "text/plain": [
       "              business_id  cool        date  funny               review_id  \\\n",
       "0  iCQpiavjjPzJ5_3gPD5Ebg     0  2011-02-25      0  x7mDIiDB3jEiPGPHOmDzyw   \n",
       "1  pomGBqfbxcqPv14c3XH-ZQ     0  2012-11-13      0  dDl8zu1vWPdKGihJrwQbpw   \n",
       "2  jtQARsP6P-LbkyjbO1qNGg     1  2014-10-23      1  LZp4UX5zK3e-c5ZGSeo3kA   \n",
       "3  elqbBhBfElMNSrjFqW3now     0  2011-02-25      0  Er4NBWCmCD4nM8_p1GRdow   \n",
       "4  Ums3gaP2qM3W1XcA5r6SsQ     0  2014-09-05      0  jsDu6QEJHbwP2Blom1PLCA   \n",
       "\n",
       "   stars                                               text  useful  \\\n",
       "0      2  The pizza was okay. Not the best I've had. I p...       0   \n",
       "1      5  I love this place! My fiance And I go here atl...       0   \n",
       "2      1  Terrible. Dry corn bread. Rib tips were all fa...       3   \n",
       "3      2  Back in 2005-2007 this place was my FAVORITE t...       2   \n",
       "4      5  Delicious healthy food. The steak is amazing. ...       0   \n",
       "\n",
       "                  user_id  \n",
       "0  msQe1u7Z_XuqjGoqhB0J5g  \n",
       "1  msQe1u7Z_XuqjGoqhB0J5g  \n",
       "2  msQe1u7Z_XuqjGoqhB0J5g  \n",
       "3  msQe1u7Z_XuqjGoqhB0J5g  \n",
       "4  msQe1u7Z_XuqjGoqhB0J5g  "
      ]
     },
     "execution_count": 5,
     "metadata": {},
     "output_type": "execute_result"
    }
   ],
   "source": [
    "yelp.head()"
   ]
  },
  {
   "cell_type": "code",
   "execution_count": 8,
   "metadata": {},
   "outputs": [
    {
     "data": {
      "text/plain": [
       "0    449\n",
       "1    317\n",
       "2    156\n",
       "3    901\n",
       "4    165\n",
       "Name: text, dtype: int64"
      ]
     },
     "execution_count": 8,
     "metadata": {},
     "output_type": "execute_result"
    }
   ],
   "source": [
    "yelp['text'].apply(len).head()"
   ]
  },
  {
   "cell_type": "code",
   "execution_count": 9,
   "metadata": {},
   "outputs": [],
   "source": [
    "import numpy as np\n",
    "import matplotlib.pyplot as plt\n",
    "import seaborn as sns"
   ]
  },
  {
   "cell_type": "code",
   "execution_count": null,
   "metadata": {},
   "outputs": [],
   "source": []
  },
  {
   "cell_type": "code",
   "execution_count": 12,
   "metadata": {},
   "outputs": [
    {
     "name": "stdout",
     "output_type": "stream",
     "text": [
      "<class 'pandas.core.frame.DataFrame'>\n",
      "RangeIndex: 27763 entries, 0 to 27762\n",
      "Data columns (total 9 columns):\n",
      "business_id    27763 non-null object\n",
      "cool           27763 non-null int64\n",
      "date           27763 non-null object\n",
      "funny          27763 non-null int64\n",
      "review_id      27763 non-null object\n",
      "stars          27763 non-null int64\n",
      "text           27763 non-null object\n",
      "useful         27763 non-null int64\n",
      "user_id        27763 non-null object\n",
      "dtypes: int64(4), object(5)\n",
      "memory usage: 1.9+ MB\n"
     ]
    }
   ],
   "source": [
    "yelp.info()"
   ]
  },
  {
   "cell_type": "code",
   "execution_count": 22,
   "metadata": {},
   "outputs": [],
   "source": [
    "word_count = lambda x: len(x.split())"
   ]
  },
  {
   "cell_type": "code",
   "execution_count": 24,
   "metadata": {},
   "outputs": [],
   "source": [
    "yelp['text length'] = yelp['text'].apply(word_count).head()"
   ]
  },
  {
   "cell_type": "code",
   "execution_count": 25,
   "metadata": {},
   "outputs": [],
   "source": [
    "sns.set_style('white')"
   ]
  },
  {
   "cell_type": "code",
   "execution_count": 36,
   "metadata": {},
   "outputs": [
    {
     "data": {
      "text/plain": [
       "<seaborn.axisgrid.FacetGrid at 0x1bc19db4978>"
      ]
     },
     "execution_count": 36,
     "metadata": {},
     "output_type": "execute_result"
    },
    {
     "data": {
      "image/png": "[encoded data removed]",
      "text/plain": [
       "<Figure size 1080x216 with 5 Axes>"
      ]
     },
     "metadata": {},
     "output_type": "display_data"
    }
   ],
   "source": [
    "g = sns.FacetGrid(yelp, col='stars')\n",
    "g.map(plt.hist, 'text length', bins=5)"
   ]
  },
  {
   "cell_type": "code",
   "execution_count": 45,
   "metadata": {},
   "outputs": [
    {
     "data": {
      "text/html": [
       "<div>\n",
       "<style scoped>\n",
       "    .dataframe tbody tr th:only-of-type {\n",
       "        vertical-align: middle;\n",
       "    }\n",
       "\n",
       "    .dataframe tbody tr th {\n",
       "        vertical-align: top;\n",
       "    }\n",
       "\n",
       "    .dataframe thead th {\n",
       "        text-align: right;\n",
       "    }\n",
       "</style>\n",
       "<table border=\"1\" class=\"dataframe\">\n",
       "  <thead>\n",
       "    <tr style=\"text-align: right;\">\n",
       "      <th></th>\n",
       "      <th>business_id</th>\n",
       "      <th>cool</th>\n",
       "      <th>date</th>\n",
       "      <th>funny</th>\n",
       "      <th>review_id</th>\n",
       "      <th>stars</th>\n",
       "      <th>text</th>\n",
       "      <th>useful</th>\n",
       "      <th>user_id</th>\n",
       "      <th>text length</th>\n",
       "    </tr>\n",
       "  </thead>\n",
       "  <tbody>\n",
       "    <tr>\n",
       "      <th>0</th>\n",
       "      <td>iCQpiavjjPzJ5_3gPD5Ebg</td>\n",
       "      <td>0</td>\n",
       "      <td>2011-02-25</td>\n",
       "      <td>0</td>\n",
       "      <td>x7mDIiDB3jEiPGPHOmDzyw</td>\n",
       "      <td>2</td>\n",
       "      <td>The pizza was okay. Not the best I've had. I p...</td>\n",
       "      <td>0</td>\n",
       "      <td>msQe1u7Z_XuqjGoqhB0J5g</td>\n",
       "      <td>87.0</td>\n",
       "    </tr>\n",
       "    <tr>\n",
       "      <th>1</th>\n",
       "      <td>pomGBqfbxcqPv14c3XH-ZQ</td>\n",
       "      <td>0</td>\n",
       "      <td>2012-11-13</td>\n",
       "      <td>0</td>\n",
       "      <td>dDl8zu1vWPdKGihJrwQbpw</td>\n",
       "      <td>5</td>\n",
       "      <td>I love this place! My fiance And I go here atl...</td>\n",
       "      <td>0</td>\n",
       "      <td>msQe1u7Z_XuqjGoqhB0J5g</td>\n",
       "      <td>58.0</td>\n",
       "    </tr>\n",
       "    <tr>\n",
       "      <th>2</th>\n",
       "      <td>jtQARsP6P-LbkyjbO1qNGg</td>\n",
       "      <td>1</td>\n",
       "      <td>2014-10-23</td>\n",
       "      <td>1</td>\n",
       "      <td>LZp4UX5zK3e-c5ZGSeo3kA</td>\n",
       "      <td>1</td>\n",
       "      <td>Terrible. Dry corn bread. Rib tips were all fa...</td>\n",
       "      <td>3</td>\n",
       "      <td>msQe1u7Z_XuqjGoqhB0J5g</td>\n",
       "      <td>30.0</td>\n",
       "    </tr>\n",
       "    <tr>\n",
       "      <th>3</th>\n",
       "      <td>elqbBhBfElMNSrjFqW3now</td>\n",
       "      <td>0</td>\n",
       "      <td>2011-02-25</td>\n",
       "      <td>0</td>\n",
       "      <td>Er4NBWCmCD4nM8_p1GRdow</td>\n",
       "      <td>2</td>\n",
       "      <td>Back in 2005-2007 this place was my FAVORITE t...</td>\n",
       "      <td>2</td>\n",
       "      <td>msQe1u7Z_XuqjGoqhB0J5g</td>\n",
       "      <td>185.0</td>\n",
       "    </tr>\n",
       "    <tr>\n",
       "      <th>4</th>\n",
       "      <td>Ums3gaP2qM3W1XcA5r6SsQ</td>\n",
       "      <td>0</td>\n",
       "      <td>2014-09-05</td>\n",
       "      <td>0</td>\n",
       "      <td>jsDu6QEJHbwP2Blom1PLCA</td>\n",
       "      <td>5</td>\n",
       "      <td>Delicious healthy food. The steak is amazing. ...</td>\n",
       "      <td>0</td>\n",
       "      <td>msQe1u7Z_XuqjGoqhB0J5g</td>\n",
       "      <td>30.0</td>\n",
       "    </tr>\n",
       "  </tbody>\n",
       "</table>\n",
       "</div>"
      ],
      "text/plain": [
       "              business_id  cool        date  funny               review_id  \\\n",
       "0  iCQpiavjjPzJ5_3gPD5Ebg     0  2011-02-25      0  x7mDIiDB3jEiPGPHOmDzyw   \n",
       "1  pomGBqfbxcqPv14c3XH-ZQ     0  2012-11-13      0  dDl8zu1vWPdKGihJrwQbpw   \n",
       "2  jtQARsP6P-LbkyjbO1qNGg     1  2014-10-23      1  LZp4UX5zK3e-c5ZGSeo3kA   \n",
       "3  elqbBhBfElMNSrjFqW3now     0  2011-02-25      0  Er4NBWCmCD4nM8_p1GRdow   \n",
       "4  Ums3gaP2qM3W1XcA5r6SsQ     0  2014-09-05      0  jsDu6QEJHbwP2Blom1PLCA   \n",
       "\n",
       "   stars                                               text  useful  \\\n",
       "0      2  The pizza was okay. Not the best I've had. I p...       0   \n",
       "1      5  I love this place! My fiance And I go here atl...       0   \n",
       "2      1  Terrible. Dry corn bread. Rib tips were all fa...       3   \n",
       "3      2  Back in 2005-2007 this place was my FAVORITE t...       2   \n",
       "4      5  Delicious healthy food. The steak is amazing. ...       0   \n",
       "\n",
       "                  user_id  text length  \n",
       "0  msQe1u7Z_XuqjGoqhB0J5g         87.0  \n",
       "1  msQe1u7Z_XuqjGoqhB0J5g         58.0  \n",
       "2  msQe1u7Z_XuqjGoqhB0J5g         30.0  \n",
       "3  msQe1u7Z_XuqjGoqhB0J5g        185.0  \n",
       "4  msQe1u7Z_XuqjGoqhB0J5g         30.0  "
      ]
     },
     "execution_count": 45,
     "metadata": {},
     "output_type": "execute_result"
    }
   ],
   "source": [
    "yelp[yelp['text length'] > 10].head()"
   ]
  },
  {
   "cell_type": "code",
   "execution_count": 71,
   "metadata": {},
   "outputs": [
    {
     "data": {
      "text/html": [
       "<div>\n",
       "<style scoped>\n",
       "    .dataframe tbody tr th:only-of-type {\n",
       "        vertical-align: middle;\n",
       "    }\n",
       "\n",
       "    .dataframe tbody tr th {\n",
       "        vertical-align: top;\n",
       "    }\n",
       "\n",
       "    .dataframe thead th {\n",
       "        text-align: right;\n",
       "    }\n",
       "</style>\n",
       "<table border=\"1\" class=\"dataframe\">\n",
       "  <thead>\n",
       "    <tr style=\"text-align: right;\">\n",
       "      <th></th>\n",
       "      <th>business_id</th>\n",
       "      <th>cool</th>\n",
       "      <th>date</th>\n",
       "      <th>funny</th>\n",
       "      <th>review_id</th>\n",
       "      <th>stars</th>\n",
       "      <th>text</th>\n",
       "      <th>useful</th>\n",
       "      <th>user_id</th>\n",
       "      <th>text length</th>\n",
       "    </tr>\n",
       "  </thead>\n",
       "  <tbody>\n",
       "    <tr>\n",
       "      <th>5</th>\n",
       "      <td>vgfcTvK81oD4r50NMjU2Ag</td>\n",
       "      <td>0</td>\n",
       "      <td>2011-02-25</td>\n",
       "      <td>0</td>\n",
       "      <td>pfavA0hr3nyqO61oupj-lA</td>\n",
       "      <td>1</td>\n",
       "      <td>This place sucks. The customer service is horrible. They dont serve food unless you order a pizza from a neighboring restaurant. Who does that? They dont control their crowd. Many times I've gone I've seen fights. The bartenders suck - I've almost got in a fight with one because she was a complete bitch. Refused to serve me a drink because she was \"busy\" celebrating her friends birthday BEHIND THE BAR. This place is ridiculous. I will NEVER go there again.. EVER.</td>\n",
       "      <td>2</td>\n",
       "      <td>msQe1u7Z_XuqjGoqhB0J5g</td>\n",
       "      <td>NaN</td>\n",
       "    </tr>\n",
       "    <tr>\n",
       "      <th>6</th>\n",
       "      <td>AxeQEz3-s9_1TyIo-G7UQw</td>\n",
       "      <td>0</td>\n",
       "      <td>2011-10-10</td>\n",
       "      <td>0</td>\n",
       "      <td>brokEno2n7s4vrwmmUdr9w</td>\n",
       "      <td>5</td>\n",
       "      <td>If you like Thai food, you have to try the original thai bbq. Their pad se ew is to DIE for. Their thai egg rolls are delicious. Basil beef will not let you down (its not on the menu anymore, you have to ask for it!) \\n\\nYes, the building is not as fancy as some other places. Yes, i've batted a fly off my plate more than once. Yes, I do NOT go to the bathroom their because I dont even WANT to know what it looks like... \\n\\nBUT.. the thai food is the best in town. The service rocks. And you can get a $25 gift cert. on Restaurant.com for $2. Can you beat that? I think NOT.\\n\\nThis is the only place my husband and I go for anniversarys, date nights, birthdays.. anything!! I recommend it to everyone I know. If you KNOW good thai food, go here.</td>\n",
       "      <td>1</td>\n",
       "      <td>msQe1u7Z_XuqjGoqhB0J5g</td>\n",
       "      <td>NaN</td>\n",
       "    </tr>\n",
       "    <tr>\n",
       "      <th>7</th>\n",
       "      <td>zdE82PiD6wquvjYLyhOJNA</td>\n",
       "      <td>0</td>\n",
       "      <td>2012-04-18</td>\n",
       "      <td>1</td>\n",
       "      <td>kUZWBVZvhWuC8TWUg5AYyA</td>\n",
       "      <td>5</td>\n",
       "      <td>AMAZING!!!\\n\\n I was referred here by a friend and at first thought \"Korean and Mexican?? WEIRD... i dont know\"... but my husband and I were in the area and thought why not, lets try it... after my friend had nothing but great things to say about this place. We tried the chimichanga and it was ABSOLUTELY AMAZING.... We actually did 1/2 chicken 1/2 beef (have you EVER been to a place that will make a burrito half and half? i havent!) The meat has fantastic flavor. I'm not a beef girl but i'd order a whole plate of their beef - its that good. The chimichanga was HUGE enough for both of us to share it (and my husband also had a beef taco which also was delicious) and we were FULL and it was $11 total with drinks. YOu cant beat that.\\n\\nTHe service was great. The server was so nice and attentive- you could tell she was the owner. \\n\\nThe only thing I'd change is their chips they serve. They were burnt, too thick and kind of bland but their salsa is great. And lets face it, i'm fat so I we ate two baskets anyway so they cant be that bad. lol\\n\\nAll in all, food was delicious, A LOT of food for cheap, great prices, great service great flavor. Hell even my burps taste delicious. Bahaha!</td>\n",
       "      <td>0</td>\n",
       "      <td>msQe1u7Z_XuqjGoqhB0J5g</td>\n",
       "      <td>NaN</td>\n",
       "    </tr>\n",
       "    <tr>\n",
       "      <th>8</th>\n",
       "      <td>EAwh1OmG6t6p3nRaZOW_AA</td>\n",
       "      <td>0</td>\n",
       "      <td>2011-02-25</td>\n",
       "      <td>0</td>\n",
       "      <td>wcqt0III88LEcm19IxFFyA</td>\n",
       "      <td>4</td>\n",
       "      <td>Ribs = amazing\\n2 hour wait time= not so amazing, but understandable. \\n\\nThis place would get 5 stars if they expanded their BBQ restaurant. Their ribs are AMAZING. You get SO much food for the price and it tastes sooo good. Plus, the two hour wait isnt always a bad thing because it gives you an excuse to drink and gamble while you wait!</td>\n",
       "      <td>0</td>\n",
       "      <td>msQe1u7Z_XuqjGoqhB0J5g</td>\n",
       "      <td>NaN</td>\n",
       "    </tr>\n",
       "    <tr>\n",
       "      <th>9</th>\n",
       "      <td>atVh8viqTj-sqDJ35tAYVg</td>\n",
       "      <td>1</td>\n",
       "      <td>2012-11-09</td>\n",
       "      <td>2</td>\n",
       "      <td>LWUtqzNthMM3vpWZIFBlPw</td>\n",
       "      <td>2</td>\n",
       "      <td>Food is pretty good, not gonna lie. BUT you have to make sacrifices if you choose to eat there. It literally takes an hour to an hour and a half to deliver food. Seriously. EVERY SINGLE TIME. Doesnt matter if we order at 8am, 10am or 1pm. Never fails, they take F-O-R-E-V-E-R. If you dont get what you ordered or you are upset by them delivering your breakfast around LUNCH time, be ready to have the owner talk down to you and be a total bitch to you for i dont know, just wanting what you pay for?! \\n\\nIts over priced. But its decently tasteful food. Takes forever. Owners a witch. And i'm pretty sure that they continuing forget to pack my extra ranch just to piss me off. \\n\\nEnd Rant. \\n\\nPS- I've never gone in there to eat because i frankly, i'd rather tip the nice delivery driver then the ignorant imbeciles that work in the dining area. \\n\\nPPS- My hot chocolate today was cold. They should call it Cold Chocolate. Or start caring if their hot chocolate is hot. One of the two would be great!</td>\n",
       "      <td>1</td>\n",
       "      <td>msQe1u7Z_XuqjGoqhB0J5g</td>\n",
       "      <td>NaN</td>\n",
       "    </tr>\n",
       "  </tbody>\n",
       "</table>\n",
       "</div>"
      ],
      "text/plain": [
       "              business_id  cool        date  funny               review_id  \\\n",
       "5  vgfcTvK81oD4r50NMjU2Ag  0     2011-02-25  0      pfavA0hr3nyqO61oupj-lA   \n",
       "6  AxeQEz3-s9_1TyIo-G7UQw  0     2011-10-10  0      brokEno2n7s4vrwmmUdr9w   \n",
       "7  zdE82PiD6wquvjYLyhOJNA  0     2012-04-18  1      kUZWBVZvhWuC8TWUg5AYyA   \n",
       "8  EAwh1OmG6t6p3nRaZOW_AA  0     2011-02-25  0      wcqt0III88LEcm19IxFFyA   \n",
       "9  atVh8viqTj-sqDJ35tAYVg  1     2012-11-09  2      LWUtqzNthMM3vpWZIFBlPw   \n",
       "\n",
       "   stars  \\\n",
       "5  1       \n",
       "6  5       \n",
       "7  5       \n",
       "8  4       \n",
       "9  2       \n",
       "\n",
       "                                                                                                                                                                                                                                                                                                                                                                                                                                                                                                                                                                                                                                                                                                                                                                                                                                                                                                                                                                                                                                                                                                                                                                                                                                             text  \\\n",
       "5  This place sucks. The customer service is horrible. They dont serve food unless you order a pizza from a neighboring restaurant. Who does that? They dont control their crowd. Many times I've gone I've seen fights. The bartenders suck - I've almost got in a fight with one because she was a complete bitch. Refused to serve me a drink because she was \"busy\" celebrating her friends birthday BEHIND THE BAR. This place is ridiculous. I will NEVER go there again.. EVER.                                                                                                                                                                                                                                                                                                                                                                                                                                                                                                                                                                                                                                                                                                                                                              \n",
       "6  If you like Thai food, you have to try the original thai bbq. Their pad se ew is to DIE for. Their thai egg rolls are delicious. Basil beef will not let you down (its not on the menu anymore, you have to ask for it!) \\n\\nYes, the building is not as fancy as some other places. Yes, i've batted a fly off my plate more than once. Yes, I do NOT go to the bathroom their because I dont even WANT to know what it looks like... \\n\\nBUT.. the thai food is the best in town. The service rocks. And you can get a $25 gift cert. on Restaurant.com for $2. Can you beat that? I think NOT.\\n\\nThis is the only place my husband and I go for anniversarys, date nights, birthdays.. anything!! I recommend it to everyone I know. If you KNOW good thai food, go here.                                                                                                                                                                                                                                                                                                                                                                                                                                                                    \n",
       "7  AMAZING!!!\\n\\n I was referred here by a friend and at first thought \"Korean and Mexican?? WEIRD... i dont know\"... but my husband and I were in the area and thought why not, lets try it... after my friend had nothing but great things to say about this place. We tried the chimichanga and it was ABSOLUTELY AMAZING.... We actually did 1/2 chicken 1/2 beef (have you EVER been to a place that will make a burrito half and half? i havent!) The meat has fantastic flavor. I'm not a beef girl but i'd order a whole plate of their beef - its that good. The chimichanga was HUGE enough for both of us to share it (and my husband also had a beef taco which also was delicious) and we were FULL and it was $11 total with drinks. YOu cant beat that.\\n\\nTHe service was great. The server was so nice and attentive- you could tell she was the owner. \\n\\nThe only thing I'd change is their chips they serve. They were burnt, too thick and kind of bland but their salsa is great. And lets face it, i'm fat so I we ate two baskets anyway so they cant be that bad. lol\\n\\nAll in all, food was delicious, A LOT of food for cheap, great prices, great service great flavor. Hell even my burps taste delicious. Bahaha!   \n",
       "8  Ribs = amazing\\n2 hour wait time= not so amazing, but understandable. \\n\\nThis place would get 5 stars if they expanded their BBQ restaurant. Their ribs are AMAZING. You get SO much food for the price and it tastes sooo good. Plus, the two hour wait isnt always a bad thing because it gives you an excuse to drink and gamble while you wait!                                                                                                                                                                                                                                                                                                                                                                                                                                                                                                                                                                                                                                                                                                                                                                                                                                                                                             \n",
       "9  Food is pretty good, not gonna lie. BUT you have to make sacrifices if you choose to eat there. It literally takes an hour to an hour and a half to deliver food. Seriously. EVERY SINGLE TIME. Doesnt matter if we order at 8am, 10am or 1pm. Never fails, they take F-O-R-E-V-E-R. If you dont get what you ordered or you are upset by them delivering your breakfast around LUNCH time, be ready to have the owner talk down to you and be a total bitch to you for i dont know, just wanting what you pay for?! \\n\\nIts over priced. But its decently tasteful food. Takes forever. Owners a witch. And i'm pretty sure that they continuing forget to pack my extra ranch just to piss me off. \\n\\nEnd Rant. \\n\\nPS- I've never gone in there to eat because i frankly, i'd rather tip the nice delivery driver then the ignorant imbeciles that work in the dining area. \\n\\nPPS- My hot chocolate today was cold. They should call it Cold Chocolate. Or start caring if their hot chocolate is hot. One of the two would be great!                                                                                                                                                                                                      \n",
       "\n",
       "   useful                 user_id  text length  \n",
       "5  2       msQe1u7Z_XuqjGoqhB0J5g NaN           \n",
       "6  1       msQe1u7Z_XuqjGoqhB0J5g NaN           \n",
       "7  0       msQe1u7Z_XuqjGoqhB0J5g NaN           \n",
       "8  0       msQe1u7Z_XuqjGoqhB0J5g NaN           \n",
       "9  1       msQe1u7Z_XuqjGoqhB0J5g NaN           "
      ]
     },
     "execution_count": 71,
     "metadata": {},
     "output_type": "execute_result"
    }
   ],
   "source": [
    "yelp[yelp['text length'].isnull()].head()"
   ]
  },
  {
   "cell_type": "code",
   "execution_count": 52,
   "metadata": {},
   "outputs": [],
   "source": [
    "pd.set_option('display.max_colwidth', -1)\n",
    "review = yelp['text'][yelp['business_id'] == 'vgfcTvK81oD4r50NMjU2Ag']"
   ]
  },
  {
   "cell_type": "code",
   "execution_count": 58,
   "metadata": {},
   "outputs": [
    {
     "name": "stdout",
     "output_type": "stream",
     "text": [
      "5    This place sucks. The customer service is horrible. They dont serve food unless you order a pizza from a neighboring restaurant. Who does that? They dont control their crowd. Many times I've gone I've seen fights. The bartenders suck - I've almost got in a fight with one because she was a complete bitch. Refused to serve me a drink because she was \"busy\" celebrating her friends birthday BEHIND THE BAR. This place is ridiculous. I will NEVER go there again.. EVER.\n"
     ]
    },
    {
     "data": {
      "text/plain": [
       "83"
      ]
     },
     "execution_count": 58,
     "metadata": {},
     "output_type": "execute_result"
    }
   ],
   "source": [
    "print(review.to_string())\n",
    "word_count(review.to_string())"
   ]
  },
  {
   "cell_type": "code",
   "execution_count": 59,
   "metadata": {},
   "outputs": [
    {
     "data": {
      "text/plain": [
       "(27758, 10)"
      ]
     },
     "execution_count": 59,
     "metadata": {},
     "output_type": "execute_result"
    }
   ],
   "source": [
    "yelp[yelp['text length'].isnull()].shape"
   ]
  },
  {
   "cell_type": "code",
   "execution_count": 60,
   "metadata": {},
   "outputs": [
    {
     "data": {
      "text/plain": [
       "(27763, 10)"
      ]
     },
     "execution_count": 60,
     "metadata": {},
     "output_type": "execute_result"
    }
   ],
   "source": [
    "yelp.shape"
   ]
  },
  {
   "cell_type": "code",
   "execution_count": 65,
   "metadata": {},
   "outputs": [
    {
     "name": "stdout",
     "output_type": "stream",
     "text": [
      "7    AMAZING!!!\\n\\n I was referred here by a friend and at first thought \"Korean and Mexican?? WEIRD... i dont know\"... but my husband and I were in the area and thought why not, lets try it... after my friend had nothing but great things to say about this place. We tried the chimichanga and it was ABSOLUTELY AMAZING.... We actually did 1/2 chicken 1/2 beef (have you EVER been to a place that will make a burrito half and half? i havent!) The meat has fantastic flavor. I'm not a beef girl but i'd order a whole plate of their beef - its that good. The chimichanga was HUGE enough for both of us to share it (and my husband also had a beef taco which also was delicious) and we were FULL and it was $11 total with drinks. YOu cant beat that.\\n\\nTHe service was great. The server was so nice and attentive- you could tell she was the owner. \\n\\nThe only thing I'd change is their chips they serve. They were burnt, too thick and kind of bland but their salsa is great. And lets face it, i'm fat so I we ate two baskets anyway so they cant be that bad. lol\\n\\nAll in all, food was delicious, A LOT of food for cheap, great prices, great service great flavor. Hell even my burps taste delicious. Bahaha!\n"
     ]
    },
    {
     "data": {
      "text/plain": [
       "229"
      ]
     },
     "execution_count": 65,
     "metadata": {},
     "output_type": "execute_result"
    }
   ],
   "source": [
    "review2 = yelp['text'][yelp['review_id'] == 'kUZWBVZvhWuC8TWUg5AYyA']\n",
    "print(review2.to_string())\n",
    "word_count(review2.to_string())"
   ]
  },
  {
   "cell_type": "code",
   "execution_count": 66,
   "metadata": {},
   "outputs": [],
   "source": [
    "yelp['text length'] = 0"
   ]
  },
  {
   "cell_type": "code",
   "execution_count": 69,
   "metadata": {},
   "outputs": [],
   "source": [
    "yelp['text length'] = yelp['text'].apply(word_count).head()"
   ]
  },
  {
   "cell_type": "code",
   "execution_count": null,
   "metadata": {},
   "outputs": [],
   "source": []
  },
  {
   "cell_type": "code",
   "execution_count": null,
   "metadata": {},
   "outputs": [],
   "source": []
  },
  {
   "cell_type": "code",
   "execution_count": 77,
   "metadata": {},
   "outputs": [
    {
     "data": {
      "text/html": [
       "<div>\n",
       "<style scoped>\n",
       "    .dataframe tbody tr th:only-of-type {\n",
       "        vertical-align: middle;\n",
       "    }\n",
       "\n",
       "    .dataframe tbody tr th {\n",
       "        vertical-align: top;\n",
       "    }\n",
       "\n",
       "    .dataframe thead th {\n",
       "        text-align: right;\n",
       "    }\n",
       "</style>\n",
       "<table border=\"1\" class=\"dataframe\">\n",
       "  <thead>\n",
       "    <tr style=\"text-align: right;\">\n",
       "      <th></th>\n",
       "      <th>business_id</th>\n",
       "      <th>cool</th>\n",
       "      <th>date</th>\n",
       "      <th>funny</th>\n",
       "      <th>review_id</th>\n",
       "      <th>stars</th>\n",
       "      <th>text</th>\n",
       "      <th>useful</th>\n",
       "      <th>user_id</th>\n",
       "      <th>text length</th>\n",
       "    </tr>\n",
       "  </thead>\n",
       "  <tbody>\n",
       "    <tr>\n",
       "      <th>5</th>\n",
       "      <td>vgfcTvK81oD4r50NMjU2Ag</td>\n",
       "      <td>0</td>\n",
       "      <td>2011-02-25</td>\n",
       "      <td>0</td>\n",
       "      <td>pfavA0hr3nyqO61oupj-lA</td>\n",
       "      <td>1</td>\n",
       "      <td>This place sucks. The customer service is horrible. They dont serve food unless you order a pizza from a neighboring restaurant. Who does that? They dont control their crowd. Many times I've gone I've seen fights. The bartenders suck - I've almost got in a fight with one because she was a complete bitch. Refused to serve me a drink because she was \"busy\" celebrating her friends birthday BEHIND THE BAR. This place is ridiculous. I will NEVER go there again.. EVER.</td>\n",
       "      <td>2</td>\n",
       "      <td>msQe1u7Z_XuqjGoqhB0J5g</td>\n",
       "      <td>NaN</td>\n",
       "    </tr>\n",
       "    <tr>\n",
       "      <th>6</th>\n",
       "      <td>AxeQEz3-s9_1TyIo-G7UQw</td>\n",
       "      <td>0</td>\n",
       "      <td>2011-10-10</td>\n",
       "      <td>0</td>\n",
       "      <td>brokEno2n7s4vrwmmUdr9w</td>\n",
       "      <td>5</td>\n",
       "      <td>If you like Thai food, you have to try the original thai bbq. Their pad se ew is to DIE for. Their thai egg rolls are delicious. Basil beef will not let you down (its not on the menu anymore, you have to ask for it!) \\n\\nYes, the building is not as fancy as some other places. Yes, i've batted a fly off my plate more than once. Yes, I do NOT go to the bathroom their because I dont even WANT to know what it looks like... \\n\\nBUT.. the thai food is the best in town. The service rocks. And you can get a $25 gift cert. on Restaurant.com for $2. Can you beat that? I think NOT.\\n\\nThis is the only place my husband and I go for anniversarys, date nights, birthdays.. anything!! I recommend it to everyone I know. If you KNOW good thai food, go here.</td>\n",
       "      <td>1</td>\n",
       "      <td>msQe1u7Z_XuqjGoqhB0J5g</td>\n",
       "      <td>NaN</td>\n",
       "    </tr>\n",
       "  </tbody>\n",
       "</table>\n",
       "</div>"
      ],
      "text/plain": [
       "              business_id  cool        date  funny               review_id  \\\n",
       "5  vgfcTvK81oD4r50NMjU2Ag  0     2011-02-25  0      pfavA0hr3nyqO61oupj-lA   \n",
       "6  AxeQEz3-s9_1TyIo-G7UQw  0     2011-10-10  0      brokEno2n7s4vrwmmUdr9w   \n",
       "\n",
       "   stars  \\\n",
       "5  1       \n",
       "6  5       \n",
       "\n",
       "                                                                                                                                                                                                                                                                                                                                                                                                                                                                                                                                                                                                                                                                                                                                                                            text  \\\n",
       "5  This place sucks. The customer service is horrible. They dont serve food unless you order a pizza from a neighboring restaurant. Who does that? They dont control their crowd. Many times I've gone I've seen fights. The bartenders suck - I've almost got in a fight with one because she was a complete bitch. Refused to serve me a drink because she was \"busy\" celebrating her friends birthday BEHIND THE BAR. This place is ridiculous. I will NEVER go there again.. EVER.                                                                                                                                                                                                                                                                                             \n",
       "6  If you like Thai food, you have to try the original thai bbq. Their pad se ew is to DIE for. Their thai egg rolls are delicious. Basil beef will not let you down (its not on the menu anymore, you have to ask for it!) \\n\\nYes, the building is not as fancy as some other places. Yes, i've batted a fly off my plate more than once. Yes, I do NOT go to the bathroom their because I dont even WANT to know what it looks like... \\n\\nBUT.. the thai food is the best in town. The service rocks. And you can get a $25 gift cert. on Restaurant.com for $2. Can you beat that? I think NOT.\\n\\nThis is the only place my husband and I go for anniversarys, date nights, birthdays.. anything!! I recommend it to everyone I know. If you KNOW good thai food, go here.   \n",
       "\n",
       "   useful                 user_id  text length  \n",
       "5  2       msQe1u7Z_XuqjGoqhB0J5g NaN           \n",
       "6  1       msQe1u7Z_XuqjGoqhB0J5g NaN           "
      ]
     },
     "execution_count": 77,
     "metadata": {},
     "output_type": "execute_result"
    }
   ],
   "source": [
    "yelp[yelp['text length'].isnull()].head(2)"
   ]
  },
  {
   "cell_type": "code",
   "execution_count": 76,
   "metadata": {},
   "outputs": [
    {
     "data": {
      "text/html": [
       "<div>\n",
       "<style scoped>\n",
       "    .dataframe tbody tr th:only-of-type {\n",
       "        vertical-align: middle;\n",
       "    }\n",
       "\n",
       "    .dataframe tbody tr th {\n",
       "        vertical-align: top;\n",
       "    }\n",
       "\n",
       "    .dataframe thead th {\n",
       "        text-align: right;\n",
       "    }\n",
       "</style>\n",
       "<table border=\"1\" class=\"dataframe\">\n",
       "  <thead>\n",
       "    <tr style=\"text-align: right;\">\n",
       "      <th></th>\n",
       "      <th>business_id</th>\n",
       "      <th>cool</th>\n",
       "      <th>date</th>\n",
       "      <th>funny</th>\n",
       "      <th>review_id</th>\n",
       "      <th>stars</th>\n",
       "      <th>text</th>\n",
       "      <th>useful</th>\n",
       "      <th>user_id</th>\n",
       "      <th>text length</th>\n",
       "    </tr>\n",
       "  </thead>\n",
       "  <tbody>\n",
       "    <tr>\n",
       "      <th>0</th>\n",
       "      <td>iCQpiavjjPzJ5_3gPD5Ebg</td>\n",
       "      <td>0</td>\n",
       "      <td>2011-02-25</td>\n",
       "      <td>0</td>\n",
       "      <td>x7mDIiDB3jEiPGPHOmDzyw</td>\n",
       "      <td>2</td>\n",
       "      <td>The pizza was okay. Not the best I've had. I prefer Biaggio's on Flamingo / Fort Apache. The chef there can make a MUCH better NY style pizza. The pizzeria @ Cosmo was over priced for the quality and lack of personality in the food. Biaggio's is a much better pick if youre going for italian - family owned, home made recipes, people that actually CARE if you like their food. You dont get that at a pizzeria in a casino. I dont care what you say...</td>\n",
       "      <td>0</td>\n",
       "      <td>msQe1u7Z_XuqjGoqhB0J5g</td>\n",
       "      <td>87.0</td>\n",
       "    </tr>\n",
       "  </tbody>\n",
       "</table>\n",
       "</div>"
      ],
      "text/plain": [
       "              business_id  cool        date  funny               review_id  \\\n",
       "0  iCQpiavjjPzJ5_3gPD5Ebg  0     2011-02-25  0      x7mDIiDB3jEiPGPHOmDzyw   \n",
       "\n",
       "   stars  \\\n",
       "0  2       \n",
       "\n",
       "                                                                                                                                                                                                                                                                                                                                                                                                                                                                text  \\\n",
       "0  The pizza was okay. Not the best I've had. I prefer Biaggio's on Flamingo / Fort Apache. The chef there can make a MUCH better NY style pizza. The pizzeria @ Cosmo was over priced for the quality and lack of personality in the food. Biaggio's is a much better pick if youre going for italian - family owned, home made recipes, people that actually CARE if you like their food. You dont get that at a pizzeria in a casino. I dont care what you say...   \n",
       "\n",
       "   useful                 user_id  text length  \n",
       "0  0       msQe1u7Z_XuqjGoqhB0J5g  87.0         "
      ]
     },
     "execution_count": 76,
     "metadata": {},
     "output_type": "execute_result"
    }
   ],
   "source": [
    "yelp.head(1)"
   ]
  },
  {
   "cell_type": "code",
   "execution_count": 81,
   "metadata": {},
   "outputs": [
    {
     "name": "stderr",
     "output_type": "stream",
     "text": [
      "c:\\users\\mayur\\appdata\\local\\programs\\python\\python36\\lib\\site-packages\\ipykernel_launcher.py:2: SettingWithCopyWarning: \n",
      "A value is trying to be set on a copy of a slice from a DataFrame\n",
      "\n",
      "See the caveats in the documentation: http://pandas.pydata.org/pandas-docs/stable/indexing.html#indexing-view-versus-copy\n",
      "  \n"
     ]
    }
   ],
   "source": [
    "mask = yelp['review_id'] == 'kUZWBVZvhWuC8TWUg5AYyA'\n",
    "yelp['text length'][mask] = 0"
   ]
  },
  {
   "cell_type": "code",
   "execution_count": 82,
   "metadata": {},
   "outputs": [
    {
     "data": {
      "text/plain": [
       "<matplotlib.axes._subplots.AxesSubplot at 0x1bc1b5e2fd0>"
      ]
     },
     "execution_count": 82,
     "metadata": {},
     "output_type": "execute_result"
    },
    {
     "data": {
      "image/png": "[encoded data removed]",
      "text/plain": [
       "<Figure size 432x288 with 1 Axes>"
      ]
     },
     "metadata": {},
     "output_type": "display_data"
    }
   ],
   "source": [
    "sns.boxplot(x='stars', y='text length', data=yelp)"
   ]
  },
  {
   "cell_type": "code",
   "execution_count": 88,
   "metadata": {},
   "outputs": [],
   "source": [
    "# yelp['text length'] = (yelp.text.str.len())\n",
    "yelp['text length'] = yelp['text'].apply(word_count)"
   ]
  },
  {
   "cell_type": "code",
   "execution_count": 90,
   "metadata": {},
   "outputs": [
    {
     "name": "stdout",
     "output_type": "stream",
     "text": [
      "business_id    object\n",
      "cool           int64 \n",
      "date           object\n",
      "funny          int64 \n",
      "review_id      object\n",
      "stars          int64 \n",
      "text           object\n",
      "useful         int64 \n",
      "user_id        object\n",
      "text length    int64 \n",
      "dtype: object\n"
     ]
    }
   ],
   "source": [
    "print(yelp.dtypes)\n",
    "word_count = lambda x: len(str(x).split()) # BUG fix: x is an object not a string"
   ]
  },
  {
   "cell_type": "code",
   "execution_count": 89,
   "metadata": {},
   "outputs": [
    {
     "data": {
      "text/html": [
       "<div>\n",
       "<style scoped>\n",
       "    .dataframe tbody tr th:only-of-type {\n",
       "        vertical-align: middle;\n",
       "    }\n",
       "\n",
       "    .dataframe tbody tr th {\n",
       "        vertical-align: top;\n",
       "    }\n",
       "\n",
       "    .dataframe thead th {\n",
       "        text-align: right;\n",
       "    }\n",
       "</style>\n",
       "<table border=\"1\" class=\"dataframe\">\n",
       "  <thead>\n",
       "    <tr style=\"text-align: right;\">\n",
       "      <th></th>\n",
       "      <th>business_id</th>\n",
       "      <th>cool</th>\n",
       "      <th>date</th>\n",
       "      <th>funny</th>\n",
       "      <th>review_id</th>\n",
       "      <th>stars</th>\n",
       "      <th>text</th>\n",
       "      <th>useful</th>\n",
       "      <th>user_id</th>\n",
       "      <th>text length</th>\n",
       "    </tr>\n",
       "  </thead>\n",
       "  <tbody>\n",
       "  </tbody>\n",
       "</table>\n",
       "</div>"
      ],
      "text/plain": [
       "Empty DataFrame\n",
       "Columns: [business_id, cool, date, funny, review_id, stars, text, useful, user_id, text length]\n",
       "Index: []"
      ]
     },
     "execution_count": 89,
     "metadata": {},
     "output_type": "execute_result"
    }
   ],
   "source": [
    "yelp[yelp['text length'].isnull()].head()"
   ]
  },
  {
   "cell_type": "code",
   "execution_count": null,
   "metadata": {},
   "outputs": [],
   "source": []
  }
 ],
 "metadata": {
  "kernelspec": {
   "display_name": "Python 3",
   "language": "python",
   "name": "python3"
  },
  "language_info": {
   "codemirror_mode": {
    "name": "ipython",
    "version": 3
   },
   "file_extension": ".py",
   "mimetype": "text/x-python",
   "name": "python",
   "nbconvert_exporter": "python",
   "pygments_lexer": "ipython3",
   "version": "3.6.6"
  }
 },
 "nbformat": 4,
 "nbformat_minor": 2
}
